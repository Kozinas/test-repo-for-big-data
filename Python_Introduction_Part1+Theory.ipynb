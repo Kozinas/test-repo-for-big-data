{
  "nbformat": 4,
  "nbformat_minor": 0,
  "metadata": {
    "anaconda-cloud": {},
    "kernelspec": {
      "name": "python3",
      "display_name": "Python 3"
    },
    "colab": {
      "name": "Python_Introduction_Part1 (1).ipynb",
      "provenance": [],
      "collapsed_sections": []
    },
    "language_info": {
      "name": "python"
    }
  },
  "cells": [
    {
      "cell_type": "markdown",
      "metadata": {
        "id": "-CjgnN7xZTsT"
      },
      "source": [
        "# Синтаксис Python: часть 1\n"
      ]
    },
    {
      "cell_type": "markdown",
      "metadata": {
        "id": "82ilAy01ebQP"
      },
      "source": [
        "#Отступы в Python \n",
        "В то время как в других языках программирования отступ в коде предназначен только для чтения, в Python отступ очень важен. Python использует отступ для указания блока кода.\n",
        "\n",
        "Функция Python *print* часто используется для вывода переменных:\n",
        "Чтобы комбинировать как текст, так и переменную, Python использует символ +\n",
        "\n"
      ]
    },
    {
      "cell_type": "code",
      "metadata": {
        "colab": {
          "base_uri": "https://localhost:8080/"
        },
        "id": "MpXFkE16kcaO",
        "outputId": "a2e32cae-ced1-4c74-80b0-9f31c54167d7"
      },
      "source": [
        "x = \"Hello \"\n",
        "y = \"World\"\n",
        "print(x + y)"
      ],
      "execution_count": 25,
      "outputs": [
        {
          "output_type": "stream",
          "name": "stdout",
          "text": [
            "Hello World\n"
          ]
        }
      ]
    },
    {
      "cell_type": "code",
      "metadata": {
        "id": "RdXLB77eZTsc"
      },
      "source": [
        "x = 7"
      ],
      "execution_count": 4,
      "outputs": []
    },
    {
      "cell_type": "code",
      "metadata": {
        "colab": {
          "base_uri": "https://localhost:8080/"
        },
        "id": "MgZ-FXA8gOEv",
        "outputId": "147420a3-3fcd-4529-a3e6-f91bc8e813bd"
      },
      "source": [
        "if x > 2:  \n",
        "    print(x + 2)# Для числе + используется как математический оператор "
      ],
      "execution_count": 21,
      "outputs": [
        {
          "output_type": "stream",
          "name": "stdout",
          "text": [
            "9\n"
          ]
        }
      ]
    },
    {
      "cell_type": "code",
      "metadata": {
        "colab": {
          "base_uri": "https://localhost:8080/",
          "height": 129
        },
        "id": "qHkqUdBagbXA",
        "outputId": "3a89601d-5afe-4121-cf66-c11f507586ca"
      },
      "source": [
        "if x > 2:  \n",
        "print(x) #так работать не будет"
      ],
      "execution_count": 9,
      "outputs": [
        {
          "output_type": "error",
          "ename": "IndentationError",
          "evalue": "ignored",
          "traceback": [
            "\u001b[0;36m  File \u001b[0;32m\"<ipython-input-9-dd315899619e>\"\u001b[0;36m, line \u001b[0;32m2\u001b[0m\n\u001b[0;31m    print(x)#так работать не будет\u001b[0m\n\u001b[0m        ^\u001b[0m\n\u001b[0;31mIndentationError\u001b[0m\u001b[0;31m:\u001b[0m expected an indented block\n"
          ]
        }
      ]
    },
    {
      "cell_type": "markdown",
      "metadata": {
        "id": "jBPJ0xQOgY_y"
      },
      "source": [
        ""
      ]
    },
    {
      "cell_type": "markdown",
      "metadata": {
        "id": "wayKYwM_gBo7"
      },
      "source": [
        "# Типы данных и управляющие конструкции"
      ]
    },
    {
      "cell_type": "markdown",
      "metadata": {
        "id": "dhGCmznQZTsj"
      },
      "source": [
        "## 1. Числовые типы данных и арифметика\n",
        "\n",
        "В отличие от других языков программирования, Python не имеет команды для объявления переменной. Переменная создается тогда, когда вы **назначили ей значение**.\n",
        "Не нужно указывать конкретный тип переменной при объявлении. Можно даже изменять их тип после создания."
      ]
    },
    {
      "cell_type": "markdown",
      "metadata": {
        "id": "BTe3AcdgZTsl"
      },
      "source": [
        "### int"
      ]
    },
    {
      "cell_type": "code",
      "metadata": {
        "id": "rZ1lurTyZTsl"
      },
      "source": [
        "x = 5"
      ],
      "execution_count": null,
      "outputs": []
    },
    {
      "cell_type": "code",
      "metadata": {
        "colab": {
          "base_uri": "https://localhost:8080/"
        },
        "id": "VVZIkYwXZTsm",
        "outputId": "064f1160-77d9-4f60-ebc2-633af370f12d"
      },
      "source": [
        "print(x)"
      ],
      "execution_count": null,
      "outputs": [
        {
          "output_type": "stream",
          "name": "stdout",
          "text": [
            "5\n"
          ]
        }
      ]
    },
    {
      "cell_type": "code",
      "metadata": {
        "id": "8oq8pVVKZTsn",
        "outputId": "2ad170b4-1655-489c-861e-7b94db82c1fb"
      },
      "source": [
        "print(type(x))# проверка типа переменной "
      ],
      "execution_count": null,
      "outputs": [
        {
          "name": "stdout",
          "output_type": "stream",
          "text": [
            "<class 'int'>\n"
          ]
        }
      ]
    },
    {
      "cell_type": "markdown",
      "metadata": {
        "id": "3eY0ui2riQOO"
      },
      "source": [
        "**Арифметические операции в Python**\n",
        "![image.png](data:image/png;base64,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)"
      ]
    },
    {
      "cell_type": "code",
      "metadata": {
        "id": "cDHzs4hLZTsq",
        "colab": {
          "base_uri": "https://localhost:8080/"
        },
        "outputId": "a51c06fd-1cc3-436a-f4ff-691dc594176c"
      },
      "source": [
        "a = 4 + 5\n",
        "b = 4 * 5\n",
        "c = 5 / 4\n",
        "d = 5 // 4\n",
        "\n",
        "print(a, b, c, d)"
      ],
      "execution_count": 10,
      "outputs": [
        {
          "output_type": "stream",
          "name": "stdout",
          "text": [
            "9 20 1.25 1\n"
          ]
        }
      ]
    },
    {
      "cell_type": "code",
      "metadata": {
        "id": "_G0iYvNjZTsr",
        "colab": {
          "base_uri": "https://localhost:8080/"
        },
        "outputId": "1c5a87b2-cbd6-40db-a248-42e3f8760ce1"
      },
      "source": [
        "print(-5 // 4)"
      ],
      "execution_count": 11,
      "outputs": [
        {
          "output_type": "stream",
          "name": "stdout",
          "text": [
            "-2\n"
          ]
        }
      ]
    },
    {
      "cell_type": "code",
      "metadata": {
        "id": "5zRBVUsEZTst",
        "colab": {
          "base_uri": "https://localhost:8080/"
        },
        "outputId": "2ab39b59-18f6-4fcc-954a-0e566362416c"
      },
      "source": [
        "print(-(5 // 4))"
      ],
      "execution_count": 12,
      "outputs": [
        {
          "output_type": "stream",
          "name": "stdout",
          "text": [
            "-1\n"
          ]
        }
      ]
    },
    {
      "cell_type": "markdown",
      "metadata": {
        "id": "mJ-GTuE_ZTsv"
      },
      "source": [
        "### long"
      ]
    },
    {
      "cell_type": "code",
      "metadata": {
        "id": "sBdVlkKFZTsv",
        "outputId": "40e35c07-a5b9-45cb-84ac-f010ed40df6f"
      },
      "source": [
        "x = 5 * 1000000 * 1000000 * 1000000 * 1000000 * 1000000 * 1000000 + 1\n",
        "print(x)\n",
        "print(type(x))"
      ],
      "execution_count": null,
      "outputs": [
        {
          "name": "stdout",
          "output_type": "stream",
          "text": [
            "5000000000000000000000000000000000001\n",
            "<class 'int'>\n"
          ]
        }
      ]
    },
    {
      "cell_type": "code",
      "metadata": {
        "id": "OCGOO-V6ZTsy",
        "outputId": "0f7b869d-af98-4bb4-8d8d-82f7a7e945b2"
      },
      "source": [
        "y = 5\n",
        "print(type(y))\n",
        "y = x\n",
        "print(type(y))"
      ],
      "execution_count": null,
      "outputs": [
        {
          "name": "stdout",
          "output_type": "stream",
          "text": [
            "<class 'int'>\n",
            "<class 'int'>\n"
          ]
        }
      ]
    },
    {
      "cell_type": "markdown",
      "metadata": {
        "id": "9SPEHnjfZTs0"
      },
      "source": [
        "### float"
      ]
    },
    {
      "cell_type": "code",
      "metadata": {
        "id": "Ca_HEcwkZTs2"
      },
      "source": [
        "y = 5.7"
      ],
      "execution_count": null,
      "outputs": []
    },
    {
      "cell_type": "code",
      "metadata": {
        "id": "qBu8TCgXZTs3",
        "outputId": "4d78ef3e-b339-479a-fe72-d43cbbfbb2ce"
      },
      "source": [
        "print(y)\n",
        "print(type(y))"
      ],
      "execution_count": null,
      "outputs": [
        {
          "name": "stdout",
          "output_type": "stream",
          "text": [
            "5.7\n",
            "<class 'float'>\n"
          ]
        }
      ]
    },
    {
      "cell_type": "code",
      "metadata": {
        "id": "SkPmmAOcZTs4",
        "outputId": "a2696795-5e0c-4d37-d4d0-00475e228f30"
      },
      "source": [
        "a = 4.2 + 5.1\n",
        "b = 4.2 * 5.1\n",
        "c = 5.0 // 4.0\n",
        "\n",
        "print(a, b, c)"
      ],
      "execution_count": null,
      "outputs": [
        {
          "name": "stdout",
          "output_type": "stream",
          "text": [
            "9.3 21.419999999999998 1.0\n"
          ]
        }
      ]
    },
    {
      "cell_type": "code",
      "metadata": {
        "id": "ztHK7YTNZTs5",
        "outputId": "365c1945-5e0a-4069-962e-ae4bc2c1e228"
      },
      "source": [
        "a = 5\n",
        "b = 4\n",
        "print(float(a) // float(b))"
      ],
      "execution_count": null,
      "outputs": [
        {
          "name": "stdout",
          "output_type": "stream",
          "text": [
            "1.0\n"
          ]
        }
      ]
    },
    {
      "cell_type": "code",
      "metadata": {
        "id": "e-KoOMWdZTs6",
        "outputId": "aa184b8d-58ae-477a-de91-a1627a6a01a8"
      },
      "source": [
        "print(5.0 // 4)\n",
        "print(5 // 4.0)"
      ],
      "execution_count": null,
      "outputs": [
        {
          "name": "stdout",
          "output_type": "stream",
          "text": [
            "1.0\n",
            "1.0\n"
          ]
        }
      ]
    },
    {
      "cell_type": "code",
      "metadata": {
        "id": "V57GJhaLZTs7",
        "outputId": "bba24252-93b0-4397-8484-089cc74de6b4"
      },
      "source": [
        "print(float(a) // b)"
      ],
      "execution_count": null,
      "outputs": [
        {
          "name": "stdout",
          "output_type": "stream",
          "text": [
            "1.0\n"
          ]
        }
      ]
    },
    {
      "cell_type": "code",
      "metadata": {
        "id": "fL9ssX8lZTs7",
        "outputId": "2dddd208-9aba-40fd-d4eb-4496adf49b54"
      },
      "source": [
        "a = 3.14\n",
        "b = int(a)\n",
        "print(type(a))\n",
        "print(type(b))\n",
        "print(b)"
      ],
      "execution_count": null,
      "outputs": [
        {
          "name": "stdout",
          "output_type": "stream",
          "text": [
            "<class 'float'>\n",
            "<class 'int'>\n",
            "3\n"
          ]
        }
      ]
    },
    {
      "cell_type": "code",
      "metadata": {
        "id": "jexx5N5CZTs8",
        "outputId": "5e0f00ca-21a5-416c-f12c-b65a62531b8f"
      },
      "source": [
        "a = 0.1 + 0.2\n",
        "print(a)\n",
        "print(0.3)\n",
        "print(a - 0.3)"
      ],
      "execution_count": null,
      "outputs": [
        {
          "name": "stdout",
          "output_type": "stream",
          "text": [
            "0.30000000000000004\n",
            "0.3\n",
            "5.551115123125783e-17\n"
          ]
        }
      ]
    },
    {
      "cell_type": "markdown",
      "metadata": {
        "id": "ks9FzhdaZTs_"
      },
      "source": [
        "### bool и логические операции \n",
        "![image.png](data:image/png;base64,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)"
      ]
    },
    {
      "cell_type": "code",
      "metadata": {
        "colab": {
          "base_uri": "https://localhost:8080/"
        },
        "id": "T19pBQqDZTs_",
        "outputId": "bf141c2b-ea00-4891-8896-5a26cf51a841"
      },
      "source": [
        "a = True\n",
        "b = False\n",
        "\n",
        "print(a)\n",
        "print(type(a))\n",
        "\n",
        "print(b)\n",
        "print(type(b))"
      ],
      "execution_count": null,
      "outputs": [
        {
          "output_type": "stream",
          "name": "stdout",
          "text": [
            "True\n",
            "<class 'bool'>\n",
            "False\n",
            "<class 'bool'>\n"
          ]
        }
      ]
    },
    {
      "cell_type": "code",
      "metadata": {
        "colab": {
          "base_uri": "https://localhost:8080/"
        },
        "id": "f9kJ9s9xZTtA",
        "outputId": "f6f81627-bf63-4f0d-b7d6-78bf1dd2d633"
      },
      "source": [
        "print(a + b)\n",
        "print(a + a)\n",
        "print(b + b)"
      ],
      "execution_count": null,
      "outputs": [
        {
          "output_type": "stream",
          "name": "stdout",
          "text": [
            "1\n",
            "2\n",
            "0\n"
          ]
        }
      ]
    },
    {
      "cell_type": "code",
      "metadata": {
        "colab": {
          "base_uri": "https://localhost:8080/"
        },
        "id": "djZBBHwpZTtB",
        "outputId": "65f3e86c-0326-4b58-f3ce-4b85c5ddd9fa"
      },
      "source": [
        "print(int(a), int(b))"
      ],
      "execution_count": null,
      "outputs": [
        {
          "output_type": "stream",
          "name": "stdout",
          "text": [
            "1 0\n"
          ]
        }
      ]
    },
    {
      "cell_type": "code",
      "metadata": {
        "colab": {
          "base_uri": "https://localhost:8080/"
        },
        "id": "fABY_weeZTtC",
        "outputId": "39f99a8d-77a5-4c71-bc8d-be0e09c30cf8"
      },
      "source": [
        "print(True and False)\n",
        "print(True and True)\n",
        "print(False and False)"
      ],
      "execution_count": null,
      "outputs": [
        {
          "output_type": "stream",
          "name": "stdout",
          "text": [
            "False\n",
            "True\n",
            "False\n"
          ]
        }
      ]
    },
    {
      "cell_type": "code",
      "metadata": {
        "colab": {
          "base_uri": "https://localhost:8080/"
        },
        "id": "67UI5YS6ZTtD",
        "outputId": "0715f0bc-e969-4f98-8d28-20df9208873e"
      },
      "source": [
        "print(True or False)\n",
        "print(True or True)\n",
        "print(False or False)"
      ],
      "execution_count": null,
      "outputs": [
        {
          "output_type": "stream",
          "name": "stdout",
          "text": [
            "True\n",
            "True\n",
            "False\n"
          ]
        }
      ]
    },
    {
      "cell_type": "markdown",
      "metadata": {
        "id": "zMlr0YmsZTtE"
      },
      "source": [
        "**Условия и операторы сравнения** \n",
        "\n",
        "![image.png](data:image/png;base64,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)"
      ]
    },
    {
      "cell_type": "markdown",
      "metadata": {
        "id": "mUUNeYONmXG6"
      },
      "source": [
        "Ключевое слово *elif* — это способ Python сказать, что “если предыдущие условные были неверными, тогда попробуйте это условное”.\n",
        "\n",
        "Ключевое слово *else* захватывает все, что не было захвачено предыдущими условиями."
      ]
    },
    {
      "cell_type": "code",
      "metadata": {
        "colab": {
          "base_uri": "https://localhost:8080/"
        },
        "id": "UxowJldBZTtE",
        "outputId": "8d1210c9-b65e-4f38-fced-712d6329bd66"
      },
      "source": [
        "p = 1.0\n",
        "\n",
        "if p == 1:\n",
        "    print(\"Yes\")\n",
        "elif p == 0:\n",
        "    print(\"No\")\n",
        "else:\n",
        "    print(\"Not sure\")"
      ],
      "execution_count": null,
      "outputs": [
        {
          "output_type": "stream",
          "name": "stdout",
          "text": [
            "Yes\n"
          ]
        }
      ]
    },
    {
      "cell_type": "code",
      "metadata": {
        "colab": {
          "base_uri": "https://localhost:8080/"
        },
        "id": "GEXAeub4ZTtF",
        "outputId": "f7c8370b-3a8c-4b14-8f68-e42db2446b6a"
      },
      "source": [
        "x = (\"Yes\" if p == 1 else \"No or not sure\")\n",
        "print(x)"
      ],
      "execution_count": null,
      "outputs": [
        {
          "output_type": "stream",
          "name": "stdout",
          "text": [
            "Yes\n"
          ]
        }
      ]
    },
    {
      "cell_type": "code",
      "metadata": {
        "colab": {
          "base_uri": "https://localhost:8080/"
        },
        "id": "BDNGMFgOZTtG",
        "outputId": "c9273303-3bfe-4af0-bf4a-cd405708ff23"
      },
      "source": [
        "p = 0.352 + 0.314\n",
        "\n",
        "if p == 0.666:\n",
        "    print(\"Yes\")\n",
        "elif p == 0:\n",
        "    print(\"No\")\n",
        "else:\n",
        "    print(\"Not sure\")"
      ],
      "execution_count": null,
      "outputs": [
        {
          "output_type": "stream",
          "name": "stdout",
          "text": [
            "Not sure\n"
          ]
        }
      ]
    },
    {
      "cell_type": "markdown",
      "metadata": {
        "id": "m2vHhComZTtH"
      },
      "source": [
        "## 2. None"
      ]
    },
    {
      "cell_type": "code",
      "metadata": {
        "id": "O__U7eZ-ZTtH",
        "colab": {
          "base_uri": "https://localhost:8080/"
        },
        "outputId": "ee20818d-f255-4b2b-bc78-bbc20226227c"
      },
      "source": [
        "z = None\n",
        "print(z)\n",
        "print(type(z))"
      ],
      "execution_count": 26,
      "outputs": [
        {
          "output_type": "stream",
          "name": "stdout",
          "text": [
            "None\n",
            "<class 'NoneType'>\n"
          ]
        }
      ]
    },
    {
      "cell_type": "code",
      "metadata": {
        "id": "1KcSII7UZTtI",
        "colab": {
          "base_uri": "https://localhost:8080/",
          "height": 0
        },
        "outputId": "d6bcc8fb-99fd-40db-c45a-515797b27850"
      },
      "source": [
        "print(int(z))"
      ],
      "execution_count": 27,
      "outputs": [
        {
          "output_type": "error",
          "ename": "TypeError",
          "evalue": "ignored",
          "traceback": [
            "\u001b[0;31m---------------------------------------------------------------------------\u001b[0m",
            "\u001b[0;31mTypeError\u001b[0m                                 Traceback (most recent call last)",
            "\u001b[0;32m<ipython-input-27-caf6459d7a1e>\u001b[0m in \u001b[0;36m<module>\u001b[0;34m()\u001b[0m\n\u001b[0;32m----> 1\u001b[0;31m \u001b[0mprint\u001b[0m\u001b[0;34m(\u001b[0m\u001b[0mint\u001b[0m\u001b[0;34m(\u001b[0m\u001b[0mz\u001b[0m\u001b[0;34m)\u001b[0m\u001b[0;34m)\u001b[0m\u001b[0;34m\u001b[0m\u001b[0;34m\u001b[0m\u001b[0m\n\u001b[0m",
            "\u001b[0;31mTypeError\u001b[0m: int() argument must be a string, a bytes-like object or a number, not 'NoneType'"
          ]
        }
      ]
    },
    {
      "cell_type": "code",
      "metadata": {
        "id": "JCWKkFrRZTtK",
        "colab": {
          "base_uri": "https://localhost:8080/"
        },
        "outputId": "4098b898-2ee6-4480-f755-beabfa96d074"
      },
      "source": [
        "print(str(None))"
      ],
      "execution_count": 28,
      "outputs": [
        {
          "output_type": "stream",
          "name": "stdout",
          "text": [
            "None\n"
          ]
        }
      ]
    },
    {
      "cell_type": "markdown",
      "metadata": {
        "id": "Si3KqcoyZTtL"
      },
      "source": [
        "## 3. Строки"
      ]
    },
    {
      "cell_type": "markdown",
      "metadata": {
        "id": "uqkheIGCZTtL"
      },
      "source": [
        "### str\n",
        "В строковых значениях в Python с двух сторон ставятся либо одинарные кавычки, либо двойные кавычки. 'привет' — это то же самое, что и \"привет\"."
      ]
    },
    {
      "cell_type": "code",
      "metadata": {
        "id": "87pJ-KNPZTtM",
        "outputId": "37096dc6-b4e2-447e-ee6e-7e0ca52c4ade"
      },
      "source": [
        "x = \"abc\"\n",
        "print(x)\n",
        "print(type(x))"
      ],
      "execution_count": null,
      "outputs": [
        {
          "name": "stdout",
          "output_type": "stream",
          "text": [
            "abc\n",
            "<class 'str'>\n"
          ]
        }
      ]
    },
    {
      "cell_type": "code",
      "metadata": {
        "id": "WtPK4EdVZTtM",
        "outputId": "05aec811-2b32-46d6-b600-a5551faa1912"
      },
      "source": [
        "a = 'Ivan'\n",
        "b = \"Ivanov\"\n",
        "s = a + \" \" + b\n",
        "print(s)"
      ],
      "execution_count": null,
      "outputs": [
        {
          "name": "stdout",
          "output_type": "stream",
          "text": [
            "Ivan Ivanov\n"
          ]
        }
      ]
    },
    {
      "cell_type": "code",
      "metadata": {
        "id": "TK1pp4kZZTtN",
        "outputId": "fd7a416b-6fd9-41ee-9e77-5f9cc7e5583e"
      },
      "source": [
        "print(a.upper())\n",
        "print(a.lower())"
      ],
      "execution_count": null,
      "outputs": [
        {
          "name": "stdout",
          "output_type": "stream",
          "text": [
            "IVAN\n",
            "ivan\n"
          ]
        }
      ]
    },
    {
      "cell_type": "code",
      "metadata": {
        "id": "hhsJNGEwZTtO",
        "outputId": "49e7cbaf-45e4-414f-a694-931e5ecdb5ca"
      },
      "source": [
        "print(len(a))"
      ],
      "execution_count": null,
      "outputs": [
        {
          "name": "stdout",
          "output_type": "stream",
          "text": [
            "4\n"
          ]
        }
      ]
    },
    {
      "cell_type": "markdown",
      "metadata": {
        "id": "6HRAOXSDnSZA"
      },
      "source": [
        "Вывод строк "
      ]
    },
    {
      "cell_type": "code",
      "metadata": {
        "id": "Fx3k-_ivZTtP",
        "outputId": "731848d6-1ec8-4b05-9078-950192221558"
      },
      "source": [
        "print(0 and \"\")\n",
        "print(1 and \"\")\n",
        "print(None and \"\")\n",
        "print('' and \"\")"
      ],
      "execution_count": null,
      "outputs": [
        {
          "name": "stdout",
          "output_type": "stream",
          "text": [
            "0\n",
            "\n",
            "None\n",
            "\n"
          ]
        }
      ]
    },
    {
      "cell_type": "code",
      "metadata": {
        "id": "mwLAGSB8ZTtQ",
        "outputId": "a81949be-bcc5-4e8a-8c68-c86165ff3ccd"
      },
      "source": [
        "print(0 or \"\")\n",
        "print(1 or \"\")\n",
        "print(None or \"\")\n",
        "print('' or \"\")"
      ],
      "execution_count": null,
      "outputs": [
        {
          "name": "stdout",
          "output_type": "stream",
          "text": [
            "\n",
            "1\n",
            "\n",
            "\n"
          ]
        }
      ]
    },
    {
      "cell_type": "markdown",
      "metadata": {
        "id": "VsjPPVcRnhFU"
      },
      "source": [
        "Как и во многих других популярных языках программирования, строки в Python это массивы байтов, которые представляют символы unicode. Однако у Python нет символьного типа данных, один символ — это просто строка с длиной 1.\n",
        "\n",
        "Квадратные скобки могут использоваться для доступа к элементам строки.\n",
        "\n",
        " **Помните, что первый символ имеет индекс 0.**"
      ]
    },
    {
      "cell_type": "code",
      "metadata": {
        "id": "0ungHU_WZTtR",
        "outputId": "e1e0b29f-c2f2-48f9-c63f-ed33ff1d7547"
      },
      "source": [
        "print(a)\n",
        "print(a[0])\n",
        "print(a[1])\n",
        "print(a[0:3])"
      ],
      "execution_count": null,
      "outputs": [
        {
          "name": "stdout",
          "output_type": "stream",
          "text": [
            "Ivan\n",
            "I\n",
            "v\n",
            "Iva\n"
          ]
        }
      ]
    },
    {
      "cell_type": "code",
      "metadata": {
        "id": "8Mpl-lOBZTtT",
        "outputId": "d021cc11-5871-4fb7-e8d0-a5b6307667f3"
      },
      "source": [
        "print(a[0:4:2])# Выведем каждый 2 из первых 5 символов строки. Сначала указываем интервал, потом с каким шагом "
      ],
      "execution_count": null,
      "outputs": [
        {
          "name": "stdout",
          "output_type": "stream",
          "text": [
            "Ia\n"
          ]
        }
      ]
    },
    {
      "cell_type": "code",
      "metadata": {
        "id": "3g2Tk_-2ZTtU",
        "outputId": "1817dbc9-582e-4220-fa35-191ce97ea09e"
      },
      "source": [
        "print(a[-2])"
      ],
      "execution_count": null,
      "outputs": [
        {
          "name": "stdout",
          "output_type": "stream",
          "text": [
            "a\n"
          ]
        }
      ]
    },
    {
      "cell_type": "code",
      "metadata": {
        "id": "B49RTW3CZTtW",
        "outputId": "4ff62e68-d98d-4d63-a227-19b32fb3f654"
      },
      "source": [
        "print(a[::-1])"
      ],
      "execution_count": null,
      "outputs": [
        {
          "name": "stdout",
          "output_type": "stream",
          "text": [
            "navI\n"
          ]
        }
      ]
    },
    {
      "cell_type": "markdown",
      "metadata": {
        "id": "NsLpySdhZTth"
      },
      "source": [
        "## 4. Массивы и циклы\n",
        "\n",
        "В языке программирования Python существует четыре типа данных для хранения последовательностей:\n",
        "\n",
        "\n",
        "1. List (список) — упорядоченная последовательность, которую можно изменять. Допускаются одинаковые элементы.\n",
        "2. Tuple (кортеж) — последовательность, которая упорядочена, но не изменяемая. Допускаются одинаковые элементы.\n",
        "3. Set (множество) — неупорядоченная изменяемая последовательность. Одинаковые элементы удаляются.   \n",
        "4. Dict (словарь) — неупорядоченная изменяемая последовательность, состоящая из пар ключ, значение. Ключи не дублируются. \n",
        "\n",
        "При выборе типа последовательности полезно знать и понимать свойства каждого из типов. Выбор правильного типа для определенного набора данных помогает сохранить смысл, и это дает повышение эффективности или безопасности."
      ]
    },
    {
      "cell_type": "markdown",
      "metadata": {
        "id": "38MiV8mvZTti"
      },
      "source": [
        "### list\n",
        "Списки это упорядоченная и изменяемая последовательность. В Python списки записываются в квадратных скобках."
      ]
    },
    {
      "cell_type": "code",
      "metadata": {
        "id": "9DIcwRuOZTti",
        "colab": {
          "base_uri": "https://localhost:8080/"
        },
        "outputId": "0a12031a-9065-48e7-cb0c-fb7013aaabe7"
      },
      "source": [
        "saled_goods_count = [33450, 34010, 33990, 33200]\n",
        "print(saled_goods_count)\n",
        "print(type(saled_goods_count))"
      ],
      "execution_count": 44,
      "outputs": [
        {
          "output_type": "stream",
          "name": "stdout",
          "text": [
            "[33450, 34010, 33990, 33200]\n",
            "<class 'list'>\n"
          ]
        }
      ]
    },
    {
      "cell_type": "code",
      "metadata": {
        "id": "LZMl6ZJnZTtk",
        "colab": {
          "base_uri": "https://localhost:8080/"
        },
        "outputId": "8aad1fb3-07e2-42f0-f9cc-218f33069204"
      },
      "source": [
        "print(type(saled_goods_count[0]))# Доступ к элементу осуществляется через квадратные скобки "
      ],
      "execution_count": 45,
      "outputs": [
        {
          "output_type": "stream",
          "name": "stdout",
          "text": [
            "<class 'int'>\n"
          ]
        }
      ]
    },
    {
      "cell_type": "code",
      "metadata": {
        "id": "ZbkZ7OpxZTtl",
        "colab": {
          "base_uri": "https://localhost:8080/"
        },
        "outputId": "057fc304-1380-49b4-8095-d71f9cb5cac0"
      },
      "source": [
        "saled_goods_count.append(34000)# Добавления значения в конец списка - метод: append\n",
        "print(saled_goods_count)"
      ],
      "execution_count": 46,
      "outputs": [
        {
          "output_type": "stream",
          "name": "stdout",
          "text": [
            "[33450, 34010, 33990, 33200, 34000]\n"
          ]
        }
      ]
    },
    {
      "cell_type": "code",
      "metadata": {
        "id": "0i8S7ZLTZTtm",
        "colab": {
          "base_uri": "https://localhost:8080/"
        },
        "outputId": "fd4da1ec-427b-463a-a326-a514d02b932e"
      },
      "source": [
        "income = ['Высокий', 'Средний', 'Высокий']\n",
        "names = ['Элеонора Михайловна', 'Иван Иванович', 'Михаил Абрамович']\n",
        "\n",
        "print(income)\n",
        "print(names)"
      ],
      "execution_count": 47,
      "outputs": [
        {
          "output_type": "stream",
          "name": "stdout",
          "text": [
            "['Высокий', 'Средний', 'Высокий']\n",
            "['Элеонора Михайловна', 'Иван Иванович', 'Михаил Абрамович']\n"
          ]
        }
      ]
    },
    {
      "cell_type": "code",
      "metadata": {
        "id": "j6kdAGOtZTto",
        "colab": {
          "base_uri": "https://localhost:8080/"
        },
        "outputId": "9155e547-29e5-4462-d29e-db7800f7e034"
      },
      "source": [
        "print(\"---\".join(income))"
      ],
      "execution_count": 48,
      "outputs": [
        {
          "output_type": "stream",
          "name": "stdout",
          "text": [
            "Высокий---Средний---Высокий\n"
          ]
        }
      ]
    },
    {
      "cell_type": "code",
      "metadata": {
        "id": "7L01tAC1ZTto",
        "colab": {
          "base_uri": "https://localhost:8080/"
        },
        "outputId": "4147a49d-a49a-4270-b919-ce0ded6f6148"
      },
      "source": [
        "features = ['Ivan Ivanovich', 'Medium', 500000, 12, True]# Список может состоять из элементов разных типов \n",
        "print(features)\n",
        "print(type(features))"
      ],
      "execution_count": 49,
      "outputs": [
        {
          "output_type": "stream",
          "name": "stdout",
          "text": [
            "['Ivan Ivanovich', 'Medium', 500000, 12, True]\n",
            "<class 'list'>\n"
          ]
        }
      ]
    },
    {
      "cell_type": "code",
      "metadata": {
        "id": "bYOq306vZTtp",
        "colab": {
          "base_uri": "https://localhost:8080/"
        },
        "outputId": "d442af3d-e26d-42a7-95bd-b4d5b88faf67"
      },
      "source": [
        "print(features[0])\n",
        "print(features[1])\n",
        "print(features[3])"
      ],
      "execution_count": 50,
      "outputs": [
        {
          "output_type": "stream",
          "name": "stdout",
          "text": [
            "Ivan Ivanovich\n",
            "Medium\n",
            "12\n"
          ]
        }
      ]
    },
    {
      "cell_type": "code",
      "metadata": {
        "id": "kZJ6SrhyZTtq",
        "colab": {
          "base_uri": "https://localhost:8080/"
        },
        "outputId": "257f9c80-7a3b-482f-c5e4-ac0a768a840e"
      },
      "source": [
        "print(features[0:5])"
      ],
      "execution_count": 51,
      "outputs": [
        {
          "output_type": "stream",
          "name": "stdout",
          "text": [
            "['Ivan Ivanovich', 'Medium', 500000, 12, True]\n"
          ]
        }
      ]
    },
    {
      "cell_type": "code",
      "metadata": {
        "id": "7emi_PNRZTtq",
        "colab": {
          "base_uri": "https://localhost:8080/"
        },
        "outputId": "ad57eb2f-9b68-48c7-d409-7aad95825e91"
      },
      "source": [
        "print(features[:5])"
      ],
      "execution_count": 52,
      "outputs": [
        {
          "output_type": "stream",
          "name": "stdout",
          "text": [
            "['Ivan Ivanovich', 'Medium', 500000, 12, True]\n"
          ]
        }
      ]
    },
    {
      "cell_type": "code",
      "metadata": {
        "id": "DJmtTU78ZTtr",
        "colab": {
          "base_uri": "https://localhost:8080/"
        },
        "outputId": "a038274d-3170-410f-9280-c807bc62cfd8"
      },
      "source": [
        "print(features[::2])# вывод каждого второго элемента"
      ],
      "execution_count": 53,
      "outputs": [
        {
          "output_type": "stream",
          "name": "stdout",
          "text": [
            "['Ivan Ivanovich', 500000, True]\n"
          ]
        }
      ]
    },
    {
      "cell_type": "code",
      "metadata": {
        "id": "CxiNuosVZTtr",
        "colab": {
          "base_uri": "https://localhost:8080/"
        },
        "outputId": "b4bdd61b-558a-4c0e-d392-97903fde55c3"
      },
      "source": [
        "print(features[1:])"
      ],
      "execution_count": 54,
      "outputs": [
        {
          "output_type": "stream",
          "name": "stdout",
          "text": [
            "['Medium', 500000, 12, True]\n"
          ]
        }
      ]
    },
    {
      "cell_type": "code",
      "metadata": {
        "id": "ySJDoUI6ZTts",
        "colab": {
          "base_uri": "https://localhost:8080/"
        },
        "outputId": "fe6d19f6-1dc6-4ccb-d09a-9286f6cb0820"
      },
      "source": [
        "print(features[2:5])"
      ],
      "execution_count": 55,
      "outputs": [
        {
          "output_type": "stream",
          "name": "stdout",
          "text": [
            "[500000, 12, True]\n"
          ]
        }
      ]
    },
    {
      "cell_type": "code",
      "metadata": {
        "id": "Vr7xx8c-ZTtt",
        "colab": {
          "base_uri": "https://localhost:8080/"
        },
        "outputId": "e945384f-030a-4431-cf11-0f00c4a5528f"
      },
      "source": [
        "print(features[:-1])"
      ],
      "execution_count": 56,
      "outputs": [
        {
          "output_type": "stream",
          "name": "stdout",
          "text": [
            "['Ivan Ivanovich', 'Medium', 500000, 12]\n"
          ]
        }
      ]
    },
    {
      "cell_type": "markdown",
      "metadata": {
        "id": "xY4Zij0Lqpnn"
      },
      "source": [
        "**Встроенные методы для работы со списками**\n",
        "\n",
        "![image.png](data:image/png;base64,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)"
      ]
    },
    {
      "cell_type": "code",
      "metadata": {
        "id": "sgf6oc0PZTtu",
        "colab": {
          "base_uri": "https://localhost:8080/"
        },
        "outputId": "bae0210d-ca67-4b2e-f106-04339dc378ef"
      },
      "source": [
        "features.append('One more element in list')\n",
        "print(features)"
      ],
      "execution_count": 57,
      "outputs": [
        {
          "output_type": "stream",
          "name": "stdout",
          "text": [
            "['Ivan Ivanovich', 'Medium', 500000, 12, True, 'One more element in list']\n"
          ]
        }
      ]
    },
    {
      "cell_type": "code",
      "metadata": {
        "id": "_e_tknMcZTtv"
      },
      "source": [
        "del features[-2]"
      ],
      "execution_count": 58,
      "outputs": []
    },
    {
      "cell_type": "code",
      "metadata": {
        "id": "ab2BxRUGZTtw",
        "colab": {
          "base_uri": "https://localhost:8080/"
        },
        "outputId": "3e86b8d4-9662-41ff-94f1-836a7cec423d"
      },
      "source": [
        "print(features)"
      ],
      "execution_count": 59,
      "outputs": [
        {
          "output_type": "stream",
          "name": "stdout",
          "text": [
            "['Ivan Ivanovich', 'Medium', 500000, 12, 'One more element in list']\n"
          ]
        }
      ]
    },
    {
      "cell_type": "code",
      "metadata": {
        "id": "mECy6J9dZTtx",
        "colab": {
          "base_uri": "https://localhost:8080/"
        },
        "outputId": "702c6952-079c-4292-df0f-9e0c15b2f88e"
      },
      "source": [
        "print([] and [2])\n",
        "print([1] and [])\n",
        "print([] and [])\n",
        "print([1] and [2])"
      ],
      "execution_count": 60,
      "outputs": [
        {
          "output_type": "stream",
          "name": "stdout",
          "text": [
            "[]\n",
            "[]\n",
            "[]\n",
            "[2]\n"
          ]
        }
      ]
    },
    {
      "cell_type": "code",
      "metadata": {
        "id": "9cD4MuyuZTty",
        "colab": {
          "base_uri": "https://localhost:8080/"
        },
        "outputId": "39a55885-12b0-47d4-ba65-2dd931d345d6"
      },
      "source": [
        "print([] or [2])\n",
        "print([1] or [])\n",
        "print([] or [])\n",
        "print([1] or [2])"
      ],
      "execution_count": 61,
      "outputs": [
        {
          "output_type": "stream",
          "name": "stdout",
          "text": [
            "[2]\n",
            "[1]\n",
            "[]\n",
            "[1]\n"
          ]
        }
      ]
    },
    {
      "cell_type": "markdown",
      "metadata": {
        "id": "xrdUQDD5ZTtz"
      },
      "source": [
        "**Циклы**"
      ]
    },
    {
      "cell_type": "markdown",
      "metadata": {
        "id": "zAkCqrYLrB-a"
      },
      "source": [
        "Цикл for используется для итерации по последовательности (list, tuple, dict, set или str)."
      ]
    },
    {
      "cell_type": "code",
      "metadata": {
        "id": "gvhEdRbpZTt0",
        "colab": {
          "base_uri": "https://localhost:8080/"
        },
        "outputId": "ffd435af-9ce1-4d99-c8b7-612b63fb2af4"
      },
      "source": [
        "for i in range(10):\n",
        "    print(i)"
      ],
      "execution_count": 62,
      "outputs": [
        {
          "output_type": "stream",
          "name": "stdout",
          "text": [
            "0\n",
            "1\n",
            "2\n",
            "3\n",
            "4\n",
            "5\n",
            "6\n",
            "7\n",
            "8\n",
            "9\n"
          ]
        }
      ]
    },
    {
      "cell_type": "code",
      "metadata": {
        "id": "CJngqMTeZTt1",
        "colab": {
          "base_uri": "https://localhost:8080/"
        },
        "outputId": "9a1a156a-286c-4f6e-a31b-88f12acde3d3"
      },
      "source": [
        "for i in range(2, 10, 2):\n",
        "    print(i)"
      ],
      "execution_count": 63,
      "outputs": [
        {
          "output_type": "stream",
          "name": "stdout",
          "text": [
            "2\n",
            "4\n",
            "6\n",
            "8\n"
          ]
        }
      ]
    },
    {
      "cell_type": "code",
      "metadata": {
        "id": "__0Pg19AZTt3",
        "colab": {
          "base_uri": "https://localhost:8080/"
        },
        "outputId": "38f74096-9440-4d3c-a7af-7194ea54822f"
      },
      "source": [
        "x = range(2, 10)\n",
        "print(type(x))\n",
        "print(x)"
      ],
      "execution_count": 64,
      "outputs": [
        {
          "output_type": "stream",
          "name": "stdout",
          "text": [
            "<class 'range'>\n",
            "range(2, 10)\n"
          ]
        }
      ]
    },
    {
      "cell_type": "code",
      "metadata": {
        "id": "oYC-Xf0UZTt5",
        "colab": {
          "base_uri": "https://localhost:8080/"
        },
        "outputId": "e8094b59-b704-4552-89f6-39a79e30664c"
      },
      "source": [
        "for x in [2, 3, 5, 7, 11]:\n",
        "    print(x)"
      ],
      "execution_count": 65,
      "outputs": [
        {
          "output_type": "stream",
          "name": "stdout",
          "text": [
            "2\n",
            "3\n",
            "5\n",
            "7\n",
            "11\n"
          ]
        }
      ]
    },
    {
      "cell_type": "markdown",
      "metadata": {
        "id": "KxGI4dLOZTuG"
      },
      "source": [
        "**Генераторы списков **"
      ]
    },
    {
      "cell_type": "code",
      "metadata": {
        "id": "HqowIvQ3ZTuH",
        "colab": {
          "base_uri": "https://localhost:8080/"
        },
        "outputId": "e4ab22f0-573d-44f7-fe41-923a74e65de4"
      },
      "source": [
        "x = [k ** 2 for k in range(2, 12, 3)]\n",
        "print(type(x))\n",
        "print(x)"
      ],
      "execution_count": 66,
      "outputs": [
        {
          "output_type": "stream",
          "name": "stdout",
          "text": [
            "<class 'list'>\n",
            "[4, 25, 64, 121]\n"
          ]
        }
      ]
    },
    {
      "cell_type": "code",
      "metadata": {
        "id": "GBhaz-AnZTuI",
        "colab": {
          "base_uri": "https://localhost:8080/"
        },
        "outputId": "51a0f86c-a980-47bb-d1b5-85f85fa24429"
      },
      "source": [
        "x = [k ** 2 for k in range(2, 12, 3) if k != 8]\n",
        "print(type(x))\n",
        "print(x)"
      ],
      "execution_count": 67,
      "outputs": [
        {
          "output_type": "stream",
          "name": "stdout",
          "text": [
            "<class 'list'>\n",
            "[4, 25, 121]\n"
          ]
        }
      ]
    },
    {
      "cell_type": "code",
      "metadata": {
        "id": "G6jQaMe7ZTuJ",
        "colab": {
          "base_uri": "https://localhost:8080/"
        },
        "outputId": "c1c56782-d620-4779-8208-be27a7f4aba3"
      },
      "source": [
        "x = (k ** 2 for k in range(2, 12, 3))\n",
        "print(type(x))\n",
        "print(x)"
      ],
      "execution_count": 68,
      "outputs": [
        {
          "output_type": "stream",
          "name": "stdout",
          "text": [
            "<class 'generator'>\n",
            "<generator object <genexpr> at 0x7f181d652d50>\n"
          ]
        }
      ]
    },
    {
      "cell_type": "code",
      "metadata": {
        "id": "sqIKmdj1ZTuK",
        "colab": {
          "base_uri": "https://localhost:8080/"
        },
        "outputId": "56a121ca-71f5-4d8a-a3cb-ed2cdb42a8c2"
      },
      "source": [
        "for k in x:\n",
        "    print(k)"
      ],
      "execution_count": 69,
      "outputs": [
        {
          "output_type": "stream",
          "name": "stdout",
          "text": [
            "4\n",
            "25\n",
            "64\n",
            "121\n"
          ]
        }
      ]
    },
    {
      "cell_type": "markdown",
      "metadata": {
        "id": "swQ0hBHkZTuN"
      },
      "source": [
        "### tuple"
      ]
    },
    {
      "cell_type": "markdown",
      "metadata": {
        "id": "BTgqLwJrri3h"
      },
      "source": [
        "Кортеж — это упорядоченная последовательность, **неизменяемая**. В Python кортежи пишутся в круглых скобках.\n",
        "\n",
        "Встроенные методы:\n",
        "\n",
        "![image.png](data:image/png;base64,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)"
      ]
    },
    {
      "cell_type": "code",
      "metadata": {
        "id": "vB_jaEYyZTuN",
        "colab": {
          "base_uri": "https://localhost:8080/"
        },
        "outputId": "c2650e6a-7e26-40c9-9af7-0d1abb9092e0"
      },
      "source": [
        "features_tuple = ('Ivan Ivanovich', 'Medium', 500000, 12, True)\n",
        "print(type(features_tuple))"
      ],
      "execution_count": 70,
      "outputs": [
        {
          "output_type": "stream",
          "name": "stdout",
          "text": [
            "<class 'tuple'>\n"
          ]
        }
      ]
    },
    {
      "cell_type": "code",
      "metadata": {
        "id": "7YXk5_eSZTuO",
        "colab": {
          "base_uri": "https://localhost:8080/"
        },
        "outputId": "360771a9-2f59-493b-a736-de72757b3c5e"
      },
      "source": [
        "features_tuple[2:5]"
      ],
      "execution_count": 71,
      "outputs": [
        {
          "output_type": "execute_result",
          "data": {
            "text/plain": [
              "(500000, 12, True)"
            ]
          },
          "metadata": {},
          "execution_count": 71
        }
      ]
    },
    {
      "cell_type": "code",
      "metadata": {
        "id": "JsacFBmiZTuP",
        "colab": {
          "base_uri": "https://localhost:8080/",
          "height": 163
        },
        "outputId": "c2d87ceb-2735-47e1-fdb4-2818a4ef07c5"
      },
      "source": [
        "features_tuple.append('one more element')"
      ],
      "execution_count": 72,
      "outputs": [
        {
          "output_type": "error",
          "ename": "AttributeError",
          "evalue": "ignored",
          "traceback": [
            "\u001b[0;31m---------------------------------------------------------------------------\u001b[0m",
            "\u001b[0;31mAttributeError\u001b[0m                            Traceback (most recent call last)",
            "\u001b[0;32m<ipython-input-72-f44ce76755af>\u001b[0m in \u001b[0;36m<module>\u001b[0;34m()\u001b[0m\n\u001b[0;32m----> 1\u001b[0;31m \u001b[0mfeatures_tuple\u001b[0m\u001b[0;34m.\u001b[0m\u001b[0mappend\u001b[0m\u001b[0;34m(\u001b[0m\u001b[0;34m'one more element'\u001b[0m\u001b[0;34m)\u001b[0m\u001b[0;34m\u001b[0m\u001b[0;34m\u001b[0m\u001b[0m\n\u001b[0m",
            "\u001b[0;31mAttributeError\u001b[0m: 'tuple' object has no attribute 'append'"
          ]
        }
      ]
    },
    {
      "cell_type": "markdown",
      "metadata": {
        "id": "yTXKnLXtZTuQ"
      },
      "source": [
        "## 5. Множества и словари"
      ]
    },
    {
      "cell_type": "markdown",
      "metadata": {
        "id": "TmcbJdkWZTuR"
      },
      "source": [
        "### set\n",
        "\n",
        "Множества — неупорядоченная и не индексируемая последовательность. В Python множества пишутся в фигурных скобках.\n",
        "\n",
        "Они не упорядочены, поэтому элементы будут отображаться в произвольном порядке.\n",
        "Множество хранит только уникальные элементы.\n",
        "\n",
        "Встроеные методы: \n",
        "\n",
        "![image.png](data:image/png;base64,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)![image.png](data:image/png;base64,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)"
      ]
    },
    {
      "cell_type": "code",
      "metadata": {
        "id": "diBet6qJZTuR"
      },
      "source": [
        "names = {'Ivan', 'Petr', 'Konstantin'}"
      ],
      "execution_count": null,
      "outputs": []
    },
    {
      "cell_type": "code",
      "metadata": {
        "id": "GNmocF_aZTuS",
        "outputId": "252ef7bd-10e2-4ffb-d4de-23c0fed5fcb4"
      },
      "source": [
        "print(type(names))"
      ],
      "execution_count": null,
      "outputs": [
        {
          "name": "stdout",
          "output_type": "stream",
          "text": [
            "<class 'set'>\n"
          ]
        }
      ]
    },
    {
      "cell_type": "code",
      "metadata": {
        "id": "C6B6WrYOZTuT",
        "outputId": "9b7d6cee-edb7-4d3c-8242-3dc085e5951c"
      },
      "source": [
        "print('Ivan' in names)"
      ],
      "execution_count": null,
      "outputs": [
        {
          "name": "stdout",
          "output_type": "stream",
          "text": [
            "True\n"
          ]
        }
      ]
    },
    {
      "cell_type": "code",
      "metadata": {
        "id": "x7a_ktCjZTuU",
        "outputId": "8e6261c6-fa27-4d08-b07d-e69779267685"
      },
      "source": [
        "print('Mikhail' in names)"
      ],
      "execution_count": null,
      "outputs": [
        {
          "name": "stdout",
          "output_type": "stream",
          "text": [
            "False\n"
          ]
        }
      ]
    },
    {
      "cell_type": "code",
      "metadata": {
        "id": "L--aU3PmZTuV",
        "outputId": "642cc20f-8805-40e3-e17c-228c6125e06e"
      },
      "source": [
        "names.add('Mikhail')\n",
        "print(names)"
      ],
      "execution_count": null,
      "outputs": [
        {
          "name": "stdout",
          "output_type": "stream",
          "text": [
            "{'Mikhail', 'Petr', 'Ivan', 'Konstantin'}\n"
          ]
        }
      ]
    },
    {
      "cell_type": "code",
      "metadata": {
        "id": "aSHpo9HGZTuW",
        "outputId": "170a3404-e8f7-483c-94e6-41817fe77d35"
      },
      "source": [
        "names.add('Mikhail')\n",
        "print(names)"
      ],
      "execution_count": null,
      "outputs": [
        {
          "name": "stdout",
          "output_type": "stream",
          "text": [
            "{'Mikhail', 'Petr', 'Ivan', 'Konstantin'}\n"
          ]
        }
      ]
    },
    {
      "cell_type": "code",
      "metadata": {
        "id": "3HJzkJWIZTuX",
        "outputId": "09bb166c-5595-44f1-b341-3341565f91f5"
      },
      "source": [
        "names.remove('Mikhail')\n",
        "print(names)"
      ],
      "execution_count": null,
      "outputs": [
        {
          "name": "stdout",
          "output_type": "stream",
          "text": [
            "{'Petr', 'Ivan', 'Konstantin'}\n"
          ]
        }
      ]
    },
    {
      "cell_type": "code",
      "metadata": {
        "id": "0KGeSIynZTuY",
        "outputId": "6b954caa-e307-472c-8c38-4b931a48df91"
      },
      "source": [
        "names.add(['Vladimir', 'Vladimirovich'])"
      ],
      "execution_count": null,
      "outputs": [
        {
          "ename": "TypeError",
          "evalue": "unhashable type: 'list'",
          "output_type": "error",
          "traceback": [
            "\u001b[0;31m---------------------------------------------------------------------------\u001b[0m",
            "\u001b[0;31mTypeError\u001b[0m                                 Traceback (most recent call last)",
            "\u001b[0;32m<ipython-input-96-4a104b0fb39e>\u001b[0m in \u001b[0;36m<module>\u001b[0;34m()\u001b[0m\n\u001b[0;32m----> 1\u001b[0;31m \u001b[0mnames\u001b[0m\u001b[0;34m.\u001b[0m\u001b[0madd\u001b[0m\u001b[0;34m(\u001b[0m\u001b[0;34m[\u001b[0m\u001b[0;34m'Vladimir'\u001b[0m\u001b[0;34m,\u001b[0m \u001b[0;34m'Vladimirovich'\u001b[0m\u001b[0;34m]\u001b[0m\u001b[0;34m)\u001b[0m\u001b[0;34m\u001b[0m\u001b[0m\n\u001b[0m",
            "\u001b[0;31mTypeError\u001b[0m: unhashable type: 'list'"
          ]
        }
      ]
    },
    {
      "cell_type": "code",
      "metadata": {
        "id": "ZlgUER63ZTua",
        "outputId": "d03f0a3e-5dcf-4cd3-c398-6f66cd884979"
      },
      "source": [
        "names.add(('Vladimir', 'Vladimirovich'))\n",
        "print(names)"
      ],
      "execution_count": null,
      "outputs": [
        {
          "name": "stdout",
          "output_type": "stream",
          "text": [
            "{'Petr', 'Ivan', ('Vladimir', 'Vladimirovich'), 'Konstantin'}\n"
          ]
        }
      ]
    },
    {
      "cell_type": "code",
      "metadata": {
        "id": "_T2erWjpZTua"
      },
      "source": [
        "a = range(1000000)\n",
        "b = list(a)\n",
        "c = set(a)"
      ],
      "execution_count": null,
      "outputs": []
    },
    {
      "cell_type": "code",
      "metadata": {
        "id": "Qk__lOYvZTuc",
        "outputId": "f265fb1d-9829-4456-889a-4ab761aa9fa5"
      },
      "source": [
        "print(a[:5], b[:5])\n",
        "print(a[-5:], b[-5:])"
      ],
      "execution_count": null,
      "outputs": [
        {
          "name": "stdout",
          "output_type": "stream",
          "text": [
            "range(0, 5) [0, 1, 2, 3, 4]\n",
            "range(999995, 1000000) [999995, 999996, 999997, 999998, 999999]\n"
          ]
        }
      ]
    },
    {
      "cell_type": "markdown",
      "metadata": {
        "id": "YBjnfUZhZTug"
      },
      "source": [
        "### dict\n",
        "Словарь — неупорядоченная последовательность, гибким к изменениям и индексированным. В Python словари пишутся в фигурных скобках, и состоят из ключей и значений.\n",
        "\n",
        "Встроенные методы: \n",
        "\n",
        "![image.png](data:image/png;base64,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)"
      ]
    },
    {
      "cell_type": "code",
      "metadata": {
        "id": "YAvn_qm2ZTug",
        "outputId": "88d2c57c-05e3-4adc-f403-f04b3bb8b557"
      },
      "source": [
        "words_frequencies = dict()\n",
        "words_frequencies['I'] = 2\n",
        "words_frequencies['am'] = 1\n",
        "words_frequencies['I'] += 1\n",
        "\n",
        "print(words_frequencies)"
      ],
      "execution_count": null,
      "outputs": [
        {
          "name": "stdout",
          "output_type": "stream",
          "text": [
            "{'I': 3, 'am': 1}\n"
          ]
        }
      ]
    },
    {
      "cell_type": "code",
      "metadata": {
        "id": "vFohtvbaZTuh",
        "outputId": "7880166d-9b2f-43d3-af19-bc5317973b53"
      },
      "source": [
        "print(words_frequencies['I'])"
      ],
      "execution_count": null,
      "outputs": [
        {
          "name": "stdout",
          "output_type": "stream",
          "text": [
            "3\n"
          ]
        }
      ]
    },
    {
      "cell_type": "code",
      "metadata": {
        "id": "D6NqrChRZTui",
        "outputId": "1e715906-4e6f-4d9d-c351-e535dc7acef3"
      },
      "source": [
        "words_frequencies = {'I': 2, 'am': 1}\n",
        "print(words_frequencies)"
      ],
      "execution_count": null,
      "outputs": [
        {
          "name": "stdout",
          "output_type": "stream",
          "text": [
            "{'I': 2, 'am': 1}\n"
          ]
        }
      ]
    },
    {
      "cell_type": "code",
      "metadata": {
        "id": "rAiz3_9gZTuj",
        "outputId": "28aa7b22-29dd-45b5-a0f2-b1b29dcff8dc"
      },
      "source": [
        "yet_another_dict = {'abc': 3.4, 5: 7.8, u'123': None}\n",
        "print(yet_another_dict)"
      ],
      "execution_count": null,
      "outputs": [
        {
          "name": "stdout",
          "output_type": "stream",
          "text": [
            "{'abc': 3.4, 5: 7.8, '123': None}\n"
          ]
        }
      ]
    },
    {
      "cell_type": "code",
      "metadata": {
        "id": "IVV88lyWZTuk",
        "outputId": "07472b40-f6ee-46c1-a519-a4abc695e60c"
      },
      "source": [
        "yet_another_dict[(1,2,5)] = [4, 5, 7]\n",
        "print(yet_another_dict)"
      ],
      "execution_count": null,
      "outputs": [
        {
          "name": "stdout",
          "output_type": "stream",
          "text": [
            "{'abc': 3.4, 5: 7.8, '123': None, (1, 2, 5): [4, 5, 7]}\n"
          ]
        }
      ]
    },
    {
      "cell_type": "code",
      "metadata": {
        "id": "qUlMptCtZTum",
        "outputId": "658b94e9-e82c-46f6-da60-37d2c6264594"
      },
      "source": [
        "yet_another_dict[[1,2,7]] = [4, 5]"
      ],
      "execution_count": null,
      "outputs": [
        {
          "ename": "TypeError",
          "evalue": "unhashable type: 'list'",
          "output_type": "error",
          "traceback": [
            "\u001b[0;31m---------------------------------------------------------------------------\u001b[0m",
            "\u001b[0;31mTypeError\u001b[0m                                 Traceback (most recent call last)",
            "\u001b[0;32m<ipython-input-108-d896033641d2>\u001b[0m in \u001b[0;36m<module>\u001b[0;34m()\u001b[0m\n\u001b[0;32m----> 1\u001b[0;31m \u001b[0myet_another_dict\u001b[0m\u001b[0;34m[\u001b[0m\u001b[0;34m[\u001b[0m\u001b[0;36m1\u001b[0m\u001b[0;34m,\u001b[0m\u001b[0;36m2\u001b[0m\u001b[0;34m,\u001b[0m\u001b[0;36m7\u001b[0m\u001b[0;34m]\u001b[0m\u001b[0;34m]\u001b[0m \u001b[0;34m=\u001b[0m \u001b[0;34m[\u001b[0m\u001b[0;36m4\u001b[0m\u001b[0;34m,\u001b[0m \u001b[0;36m5\u001b[0m\u001b[0;34m]\u001b[0m\u001b[0;34m\u001b[0m\u001b[0m\n\u001b[0m",
            "\u001b[0;31mTypeError\u001b[0m: unhashable type: 'list'"
          ]
        }
      ]
    }
  ]
}