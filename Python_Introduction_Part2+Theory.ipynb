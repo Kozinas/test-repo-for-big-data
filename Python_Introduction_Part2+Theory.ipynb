{
  "cells": [
    {
      "cell_type": "markdown",
      "metadata": {
        "id": "xibgf7IlZz2M"
      },
      "source": [
        "# Синтаксис Python: часть 2\n",
        "## Функции, lambda-функции, работа с библиотечными модулями и функциями."
      ]
    },
    {
      "cell_type": "markdown",
      "metadata": {
        "id": "JxMgb4ioZz2X"
      },
      "source": [
        "### Специальные возможности работы со списками"
      ]
    },
    {
      "cell_type": "markdown",
      "metadata": {
        "id": "B1DwLe52Zz2Z"
      },
      "source": [
        "#### Распаковка списков"
      ]
    },
    {
      "cell_type": "code",
      "execution_count": null,
      "metadata": {
        "id": "hQwi2SglZz2b"
      },
      "outputs": [],
      "source": [
        "x, y = 1, 'a'"
      ]
    },
    {
      "cell_type": "code",
      "execution_count": null,
      "metadata": {
        "id": "saol47z-Zz2f",
        "outputId": "189a459c-0db1-4876-e64c-4c8f07d66c74"
      },
      "outputs": [
        {
          "data": {
            "text/plain": [
              "'a'"
            ]
          },
          "execution_count": 2,
          "metadata": {},
          "output_type": "execute_result"
        }
      ],
      "source": [
        "y"
      ]
    },
    {
      "cell_type": "code",
      "execution_count": null,
      "metadata": {
        "id": "A5-oycNSZz2i",
        "outputId": "6e283285-eece-48ea-f76f-66ff3c0d98f0"
      },
      "outputs": [
        {
          "name": "stdout",
          "output_type": "stream",
          "text": [
            "1 a\n",
            "1 a\n"
          ]
        }
      ],
      "source": [
        "x, y = (1, 'a')\n",
        "print(x, y)\n",
        "x, y = [1, 'a']\n",
        "print(x, y)"
      ]
    },
    {
      "cell_type": "code",
      "execution_count": null,
      "metadata": {
        "id": "_ZIT2IA5Zz2k",
        "outputId": "b616082f-29b0-40d0-ecd7-482293bf7a9a"
      },
      "outputs": [
        {
          "name": "stdout",
          "output_type": "stream",
          "text": [
            "1\n",
            "2\n",
            "None\n"
          ]
        }
      ],
      "source": [
        "my_list = ['1', 2, None]\n",
        "x, y, z = my_list\n",
        "print(x)\n",
        "print(y)\n",
        "print(z)"
      ]
    },
    {
      "cell_type": "code",
      "execution_count": null,
      "metadata": {
        "id": "TFGf1wNXZz2m",
        "outputId": "b2da686b-375a-4f04-d490-a3bcd641f9c9"
      },
      "outputs": [
        {
          "name": "stdout",
          "output_type": "stream",
          "text": [
            "42\n",
            "fourty two\n"
          ]
        }
      ],
      "source": [
        "x = 42\n",
        "y = 'fourty two'\n",
        "print(x)\n",
        "print(y)"
      ]
    },
    {
      "cell_type": "code",
      "execution_count": null,
      "metadata": {
        "id": "ZinImZJDZz2p",
        "outputId": "d74d71ca-c016-4965-a01a-e0820c7ae5ba"
      },
      "outputs": [
        {
          "name": "stdout",
          "output_type": "stream",
          "text": [
            "fourty two\n",
            "42\n"
          ]
        }
      ],
      "source": [
        "x, y = y, x\n",
        "print(x)\n",
        "print(y)"
      ]
    },
    {
      "cell_type": "markdown",
      "metadata": {
        "id": "ShMcDuKyZz2r"
      },
      "source": [
        "#### zip\n",
        "\n",
        "Функция zip объединяет в кортежи элементы из последовательностей переданных в качестве аргументов.\n",
        "Обратите внимание, что zip прекращает выполнение, как только достигнут конец самого короткого списка."
      ]
    },
    {
      "cell_type": "code",
      "execution_count": null,
      "metadata": {
        "id": "Ubs9JVJSZz2s",
        "outputId": "4794846a-1f97-4549-f72c-9d10ff2808e2"
      },
      "outputs": [
        {
          "name": "stdout",
          "output_type": "stream",
          "text": [
            "<class 'zip'>\n",
            "<zip object at 0x7fb9b0263608>\n",
            "[('a', 1), ('b', None), (7, 'q')]\n"
          ]
        }
      ],
      "source": [
        "a = ['a', 'b', 7]\n",
        "b = [1, None, 'q']\n",
        "print(type(zip(a, b)))\n",
        "print(zip(a, b))\n",
        "print(list(zip(a, b)))"
      ]
    },
    {
      "cell_type": "code",
      "execution_count": null,
      "metadata": {
        "id": "Dv-ZSQJBZz2t",
        "outputId": "7f96a4a6-8e8b-472b-f6bc-44bb06165595"
      },
      "outputs": [
        {
          "name": "stdout",
          "output_type": "stream",
          "text": [
            "('a', 1)\n",
            "('b', None)\n",
            "(7, 'q')\n"
          ]
        }
      ],
      "source": [
        "for x in zip(a, b):\n",
        "    print(x)"
      ]
    },
    {
      "cell_type": "code",
      "execution_count": null,
      "metadata": {
        "id": "2rq1C8nLZz2u",
        "outputId": "1f359d7a-16f5-4214-bd16-b73e7354134e"
      },
      "outputs": [
        {
          "name": "stdout",
          "output_type": "stream",
          "text": [
            "first is \"a\", second is \"1\"\n",
            "first is \"b\", second is \"None\"\n",
            "first is \"7\", second is \"q\"\n"
          ]
        }
      ],
      "source": [
        "for x in zip(a, b):\n",
        "    print('first is \"{}\", second is \"{}\"'.format(x[0], x[1]))"
      ]
    },
    {
      "cell_type": "code",
      "execution_count": null,
      "metadata": {
        "id": "6YsYhj6RZz2w",
        "outputId": "d6a4b383-43b1-4bb1-aa01-e30f57bb947b"
      },
      "outputs": [
        {
          "name": "stdout",
          "output_type": "stream",
          "text": [
            "first is \"a\", second is \"1\"\n",
            "first is \"b\", second is \"None\"\n",
            "first is \"7\", second is \"q\"\n"
          ]
        }
      ],
      "source": [
        "for (fst, snd) in zip(a, b):\n",
        "    print('first is \"{}\", second is \"{}\"'.format(fst, snd))"
      ]
    },
    {
      "cell_type": "code",
      "execution_count": null,
      "metadata": {
        "id": "W8sGDnYGZz2x",
        "outputId": "024ab7ad-242e-4126-8d66-5d759b162f5f"
      },
      "outputs": [
        {
          "name": "stdout",
          "output_type": "stream",
          "text": [
            "first is \"a\", second is \"1\"\n",
            "first is \"b\", second is \"None\"\n",
            "first is \"7\", second is \"q\"\n"
          ]
        }
      ],
      "source": [
        "for fst, snd in zip(a, b):\n",
        "    print('first is \"{}\", second is \"{}\"'.format(fst, snd))"
      ]
    },
    {
      "cell_type": "markdown",
      "metadata": {
        "id": "V6iaq4bXZz2y"
      },
      "source": [
        "#### enumerate\n",
        "\n",
        "Функция enumerate() вернет кортеж, содержащий отсчет от start и значение, полученное из итерации по объекту. Переданный в функцию объект должен быть последовательностью, итератором или другим объектом, который поддерживает метод итератора _next_().\n",
        "\n",
        "Функция enumerate() применяется в случаях, когда необходим счётчик количества элементов в последовательности. Позволяет избавиться от необходимости инициировать и обновлять отдельную переменную-счётчик.\n",
        "enumerate() принимает два параметра:\n",
        "\n",
        "1. iterable — последовательность, итератор или объекты, поддерживающие итерацию \n",
        "2. start (необязательно) — enumerate() начинает отсчет с этого числа.\n",
        "\n",
        " \n",
        " Если start опущен, 0 принимается за начало."
      ]
    },
    {
      "cell_type": "code",
      "execution_count": 3,
      "metadata": {
        "colab": {
          "base_uri": "https://localhost:8080/"
        },
        "id": "Ch_wVSM-Zz2z",
        "outputId": "c64744d7-790d-4093-b5d1-435c426818bc"
      },
      "outputs": [
        {
          "name": "stdout",
          "output_type": "stream",
          "text": [
            "[(0, 'a'), (1, 'b'), (2, 'c')]\n"
          ]
        }
      ],
      "source": [
        "my_list = ['a', 'b', 'c']\n",
        "print(list(zip(range(len(my_list)), my_list)))"
      ]
    },
    {
      "cell_type": "code",
      "execution_count": 4,
      "metadata": {
        "colab": {
          "base_uri": "https://localhost:8080/"
        },
        "id": "k5PAhRLYZz20",
        "outputId": "97aadc6a-7017-4039-e029-452e906794ee"
      },
      "outputs": [
        {
          "name": "stdout",
          "output_type": "stream",
          "text": [
            "<class 'enumerate'>\n",
            "<enumerate object at 0x7fc079520410>\n"
          ]
        }
      ],
      "source": [
        "print(type(enumerate(my_list)))\n",
        "print(enumerate(my_list))"
      ]
    },
    {
      "cell_type": "code",
      "execution_count": 5,
      "metadata": {
        "colab": {
          "base_uri": "https://localhost:8080/"
        },
        "id": "fAD8kPfpZz21",
        "outputId": "ea75c7d0-2647-4f3b-d4a4-0dd97390b3d1"
      },
      "outputs": [
        {
          "name": "stdout",
          "output_type": "stream",
          "text": [
            "(0, 'a')\n",
            "(1, 'b')\n",
            "(2, 'c')\n"
          ]
        }
      ],
      "source": [
        "for x in enumerate(my_list):\n",
        "    print(x)"
      ]
    },
    {
      "cell_type": "code",
      "execution_count": 6,
      "metadata": {
        "colab": {
          "base_uri": "https://localhost:8080/"
        },
        "id": "RS_atiP7Zz23",
        "outputId": "7f4ea8fe-9e00-42ba-c8dc-6546ca63d9af"
      },
      "outputs": [
        {
          "name": "stdout",
          "output_type": "stream",
          "text": [
            "0 a\n",
            "1 b\n",
            "2 c\n"
          ]
        }
      ],
      "source": [
        "for index, value in enumerate(my_list):\n",
        "    print(index, value)"
      ]
    },
    {
      "cell_type": "code",
      "execution_count": 7,
      "metadata": {
        "colab": {
          "base_uri": "https://localhost:8080/"
        },
        "id": "_VqaPAUHZz24",
        "outputId": "8471690e-1d43-4265-e790-72a5c623642a"
      },
      "outputs": [
        {
          "data": {
            "text/plain": [
              "[(0, 'a'), (1, 'b'), (2, 'c')]"
            ]
          },
          "execution_count": 7,
          "metadata": {},
          "output_type": "execute_result"
        }
      ],
      "source": [
        "list(enumerate(my_list))"
      ]
    },
    {
      "cell_type": "markdown",
      "metadata": {
        "id": "vxCHX3s_Zz25"
      },
      "source": [
        "#### reversed\n",
        "\n",
        "Функция reversed() возвращает обратный итератор, то есть возвращает итератор, который перебирает элементы оригинала в обратном порядке.\n",
        "\n",
        "Функция reversed() не создает копию и не изменяет оригинал последовательности."
      ]
    },
    {
      "cell_type": "code",
      "execution_count": 8,
      "metadata": {
        "colab": {
          "base_uri": "https://localhost:8080/"
        },
        "id": "tyuc1xMxZz26",
        "outputId": "eefaef70-ed7e-4b97-d25f-d1e1974ea4d3"
      },
      "outputs": [
        {
          "name": "stdout",
          "output_type": "stream",
          "text": [
            "<class 'list_reverseiterator'>\n",
            "<list_reverseiterator object at 0x7fc07952bcd0>\n"
          ]
        }
      ],
      "source": [
        "print(type(reversed(my_list)))\n",
        "print(reversed(my_list))"
      ]
    },
    {
      "cell_type": "code",
      "execution_count": 9,
      "metadata": {
        "colab": {
          "base_uri": "https://localhost:8080/"
        },
        "id": "11rqnaFLZz27",
        "outputId": "419ae367-14fe-4d2c-dde7-25dc9d2b1b5a"
      },
      "outputs": [
        {
          "data": {
            "text/plain": [
              "['c', 'b', 'a']"
            ]
          },
          "execution_count": 9,
          "metadata": {},
          "output_type": "execute_result"
        }
      ],
      "source": [
        "list(reversed(my_list))"
      ]
    },
    {
      "cell_type": "code",
      "execution_count": 10,
      "metadata": {
        "colab": {
          "base_uri": "https://localhost:8080/",
          "height": 0
        },
        "id": "J1Fw5H_DZz28",
        "outputId": "42b530f6-4d1e-4bec-ee94-072a8e3b4d0d"
      },
      "outputs": [
        {
          "data": {
            "application/vnd.google.colaboratory.intrinsic+json": {
              "type": "string"
            },
            "text/plain": [
              "'a'"
            ]
          },
          "execution_count": 10,
          "metadata": {},
          "output_type": "execute_result"
        }
      ],
      "source": [
        "list(reversed(my_list))[2]"
      ]
    },
    {
      "cell_type": "code",
      "execution_count": null,
      "metadata": {
        "id": "eK5VX-r0Zz29"
      },
      "outputs": [],
      "source": [
        "reversed(my_list)[3]"
      ]
    },
    {
      "cell_type": "code",
      "execution_count": null,
      "metadata": {
        "id": "_H6hvX_8Zz2-"
      },
      "outputs": [],
      "source": [
        "for value in reversed(my_list):\n",
        "    print(value)"
      ]
    },
    {
      "cell_type": "markdown",
      "metadata": {
        "id": "SMhJhKlIZz2_"
      },
      "source": [
        "#### sorted\n",
        "\n",
        " *sorted(iterable, *, key=None, reverse=False)*\n",
        "\n",
        "Функция sorted() вернет новый отсортированный список из итерируемых элементов. Функция имеет два необязательных аргумента, которые должны быть указаны в качестве аргументов ключевых слов.\n",
        "\n",
        "Аргумент key принимает функцию, например key=str.lower. Переданная функция вычисляет результат для каждого элемента последовательности, который используется для сравнения элементов при сортировке. Значением по умолчанию является None, т.е. сравнивать элементы напрямую (как есть).\n",
        "\n",
        "Аргумент reverse=False имеет логическое значение. Если установлено значение True, то элементы списка сортируются в обратной последовательности (по убыванию).\n",
        "\n",
        "Встроенная функция sorted() является гарантированно стабильной. Это означает, что когда несколько элементов последовательности имеют равные значения, их первоначальный порядок сохраняется. Такое поведение полезно при сортировке в несколько проходов."
      ]
    },
    {
      "cell_type": "code",
      "execution_count": null,
      "metadata": {
        "id": "R-A_6jdHZz3A"
      },
      "outputs": [],
      "source": [
        "my_list = [1, 2, 3, 1, 2]"
      ]
    },
    {
      "cell_type": "code",
      "execution_count": null,
      "metadata": {
        "id": "cQ6xOrpIZz3B",
        "outputId": "63128f5e-fc5d-49c6-e9fe-126bc4778a6b"
      },
      "outputs": [
        {
          "name": "stdout",
          "output_type": "stream",
          "text": [
            "<class 'list'>\n",
            "[1, 1, 2, 2, 3]\n"
          ]
        }
      ],
      "source": [
        "print(type(sorted(my_list)))\n",
        "print(sorted(my_list))"
      ]
    },
    {
      "cell_type": "code",
      "execution_count": null,
      "metadata": {
        "id": "qbH_tDemZz3C",
        "outputId": "36c6e944-0b69-44d7-e483-b15bccb8dfde"
      },
      "outputs": [
        {
          "name": "stdout",
          "output_type": "stream",
          "text": [
            "[3, 2, 2, 1, 1]\n"
          ]
        }
      ],
      "source": [
        "print(sorted(my_list, reverse=True))"
      ]
    },
    {
      "cell_type": "code",
      "execution_count": null,
      "metadata": {
        "id": "Ht5DF75JZz3D"
      },
      "outputs": [],
      "source": [
        "my_list = [(1, 1), (2, 0), (3, 4), (1, -1), (2, 2)]"
      ]
    },
    {
      "cell_type": "code",
      "execution_count": null,
      "metadata": {
        "id": "ECEXFsF4Zz3D",
        "outputId": "4b7a8ab9-5aea-4556-99c4-342a1850565f"
      },
      "outputs": [
        {
          "name": "stdout",
          "output_type": "stream",
          "text": [
            "[(1, -1), (1, 1), (2, 0), (2, 2), (3, 4)]\n"
          ]
        }
      ],
      "source": [
        "print(sorted(my_list))"
      ]
    },
    {
      "cell_type": "code",
      "execution_count": null,
      "metadata": {
        "id": "jFN-F7jSZz3F"
      },
      "outputs": [],
      "source": [
        "def get_second(x):\n",
        "    return x[1]"
      ]
    },
    {
      "cell_type": "code",
      "execution_count": null,
      "metadata": {
        "id": "YC87g6zUZz3F",
        "outputId": "de100803-aff9-4c9a-b606-1fc4bccbed43"
      },
      "outputs": [
        {
          "name": "stdout",
          "output_type": "stream",
          "text": [
            "[(1, -1), (2, 0), (1, 1), (2, 2), (3, 4)]\n"
          ]
        }
      ],
      "source": [
        "print(sorted(my_list, key=get_second))"
      ]
    },
    {
      "cell_type": "markdown",
      "metadata": {
        "id": "GqZ48jrIZz3G"
      },
      "source": [
        "## Немного о функциях"
      ]
    },
    {
      "cell_type": "markdown",
      "metadata": {
        "id": "_IL9NaZbZz3K"
      },
      "source": [
        "### Научимся создавать свои функции\n",
        "\n",
        "Функция в Python определяется с помощью ключевого слова def:"
      ]
    },
    {
      "cell_type": "code",
      "execution_count": null,
      "metadata": {
        "id": "-0S0aYJdZz3L"
      },
      "outputs": [],
      "source": [
        "#пример функции \n",
        "def function_name(variable1, variable2):\n",
        "    # для примера, пусть это будет сумма в квадрате\n",
        "    variable3 = variable1 + variable2\n",
        "    return variable3 ** 2\n"
      ]
    },
    {
      "cell_type": "code",
      "execution_count": null,
      "metadata": {
        "id": "NQQqN2xHZz3L",
        "outputId": "e70e08c0-b0a0-4bea-b743-d4060a51e0cd"
      },
      "outputs": [
        {
          "data": {
            "text/plain": [
              "49"
            ]
          },
          "execution_count": 40,
          "metadata": {},
          "output_type": "execute_result"
        }
      ],
      "source": [
        "function_name(3, 4)"
      ]
    },
    {
      "cell_type": "code",
      "execution_count": null,
      "metadata": {
        "id": "tvk7KLbGZz3M",
        "outputId": "300792cc-52ef-4441-8808-f4d60a741576"
      },
      "outputs": [
        {
          "data": {
            "text/plain": [
              "1"
            ]
          },
          "execution_count": 41,
          "metadata": {},
          "output_type": "execute_result"
        }
      ],
      "source": [
        "function_name(3, -4)"
      ]
    },
    {
      "cell_type": "markdown",
      "metadata": {
        "id": "qTh88Rz3Zz3N"
      },
      "source": [
        "#### return необязательно должен быть один"
      ]
    },
    {
      "cell_type": "code",
      "execution_count": null,
      "metadata": {
        "id": "ZYum9TuzZz3N"
      },
      "outputs": [],
      "source": [
        "def function_name(variable1, variable2):\n",
        "    if variable1 > variable2:\n",
        "        return 'First'\n",
        "    elif variable1 < variable2:\n",
        "        return 'Second'\n",
        "    else:\n",
        "        return 'Equal'"
      ]
    },
    {
      "cell_type": "code",
      "execution_count": null,
      "metadata": {
        "id": "4ECl9cL5Zz3O",
        "outputId": "de27c27c-5427-465a-9e8e-b30cb24dff46"
      },
      "outputs": [
        {
          "name": "stdout",
          "output_type": "stream",
          "text": [
            "Second\n",
            "First\n",
            "Equal\n"
          ]
        }
      ],
      "source": [
        "print(function_name(1, 2))\n",
        "print(function_name(3, 1))\n",
        "print(function_name(10, 10))"
      ]
    },
    {
      "cell_type": "markdown",
      "metadata": {
        "id": "o2pqRnbuZz3O"
      },
      "source": [
        "#### А что будет, если не возвращать значения?"
      ]
    },
    {
      "cell_type": "code",
      "execution_count": null,
      "metadata": {
        "id": "EV2QZyF-Zz3P"
      },
      "outputs": [],
      "source": [
        "def f1(x):\n",
        "    print('we was in f1')"
      ]
    },
    {
      "cell_type": "code",
      "execution_count": null,
      "metadata": {
        "id": "HJityra9Zz3P"
      },
      "outputs": [],
      "source": [
        "def _f(x):\n",
        "    print('we was in _f')"
      ]
    },
    {
      "cell_type": "code",
      "execution_count": null,
      "metadata": {
        "id": "M-ZpS4AxZz3Q",
        "outputId": "1d421a87-2081-4aba-d20c-6dc27f57d292"
      },
      "outputs": [
        {
          "ename": "SyntaxError",
          "evalue": "invalid token (<ipython-input-50-f8f88b9fc383>, line 1)",
          "output_type": "error",
          "traceback": [
            "\u001b[0;36m  File \u001b[0;32m\"<ipython-input-50-f8f88b9fc383>\"\u001b[0;36m, line \u001b[0;32m1\u001b[0m\n\u001b[0;31m    def 1_f(x):\u001b[0m\n\u001b[0m         ^\u001b[0m\n\u001b[0;31mSyntaxError\u001b[0m\u001b[0;31m:\u001b[0m invalid token\n"
          ]
        }
      ],
      "source": [
        "def 1_f(x):\n",
        "    print('we was in 1_f')"
      ]
    },
    {
      "cell_type": "code",
      "execution_count": null,
      "metadata": {
        "id": "Bdm3ACgEZz3R",
        "outputId": "7e71357f-f69b-4228-ae58-d9d020781729"
      },
      "outputs": [
        {
          "ename": "TypeError",
          "evalue": "f1() missing 1 required positional argument: 'x'",
          "output_type": "error",
          "traceback": [
            "\u001b[0;31m---------------------------------------------------------------------------\u001b[0m",
            "\u001b[0;31mTypeError\u001b[0m                                 Traceback (most recent call last)",
            "\u001b[0;32m<ipython-input-51-2564de2aa3f5>\u001b[0m in \u001b[0;36m<module>\u001b[0;34m()\u001b[0m\n\u001b[0;32m----> 1\u001b[0;31m \u001b[0mx\u001b[0m \u001b[0;34m=\u001b[0m \u001b[0mf1\u001b[0m\u001b[0;34m(\u001b[0m\u001b[0;34m)\u001b[0m\u001b[0;34m\u001b[0m\u001b[0m\n\u001b[0m\u001b[1;32m      2\u001b[0m \u001b[0mx\u001b[0m\u001b[0;34m\u001b[0m\u001b[0m\n",
            "\u001b[0;31mTypeError\u001b[0m: f1() missing 1 required positional argument: 'x'"
          ]
        }
      ],
      "source": [
        "x = f1()\n",
        "x"
      ]
    },
    {
      "cell_type": "code",
      "execution_count": null,
      "metadata": {
        "id": "K8jd-IhdZz3S",
        "outputId": "87d1eb59-83bf-4b5c-f7b2-423c4f94c8c3"
      },
      "outputs": [
        {
          "name": "stdout",
          "output_type": "stream",
          "text": [
            "we was in f1\n"
          ]
        }
      ],
      "source": [
        "x = f1(1)\n",
        "x"
      ]
    },
    {
      "cell_type": "code",
      "execution_count": null,
      "metadata": {
        "id": "xvrSA4CPZz3S",
        "outputId": "477f7b3b-e65c-4a8c-b7bb-68cc09a45694"
      },
      "outputs": [
        {
          "name": "stdout",
          "output_type": "stream",
          "text": [
            "None\n"
          ]
        }
      ],
      "source": [
        "print(x)"
      ]
    },
    {
      "cell_type": "code",
      "execution_count": null,
      "metadata": {
        "id": "z_d6oJbdZz3T",
        "outputId": "b0b21ad3-ed4e-4162-a5c6-87cc26f747e7"
      },
      "outputs": [
        {
          "name": "stdout",
          "output_type": "stream",
          "text": [
            "we was in _f\n"
          ]
        }
      ],
      "source": [
        "x = _f(1)\n",
        "x"
      ]
    },
    {
      "cell_type": "code",
      "execution_count": null,
      "metadata": {
        "id": "YYWgqfU1Zz3U"
      },
      "outputs": [],
      "source": [
        "def f2(x):\n",
        "    print('we was in f2')\n",
        "    return x"
      ]
    },
    {
      "cell_type": "code",
      "execution_count": null,
      "metadata": {
        "id": "ZOWfkZmgZz3U",
        "outputId": "01c6acd5-ff64-4f80-a80e-d45543a1f231"
      },
      "outputs": [
        {
          "name": "stdout",
          "output_type": "stream",
          "text": [
            "we was in f2\n"
          ]
        },
        {
          "data": {
            "text/plain": [
              "1"
            ]
          },
          "execution_count": 57,
          "metadata": {},
          "output_type": "execute_result"
        }
      ],
      "source": [
        "x = f2(1)\n",
        "x"
      ]
    },
    {
      "cell_type": "markdown",
      "metadata": {
        "id": "Cas3xM2YZz3V"
      },
      "source": [
        "#### Давайте напишем несколько простых функций"
      ]
    },
    {
      "cell_type": "code",
      "execution_count": null,
      "metadata": {
        "id": "5vcMMnFLZz3W"
      },
      "outputs": [],
      "source": [
        "def plus_1(x):\n",
        "    return x + 1\n",
        "\n",
        "def my_abs(x):\n",
        "    if x < 0:\n",
        "        return -x\n",
        "    else:\n",
        "        return x\n",
        "    \n",
        "def my_sum(x, y):\n",
        "    return x + y"
      ]
    },
    {
      "cell_type": "code",
      "execution_count": null,
      "metadata": {
        "id": "fxaFJyLuZz3X",
        "outputId": "a8b39945-224f-4516-b56f-0a0c1c160982"
      },
      "outputs": [
        {
          "name": "stdout",
          "output_type": "stream",
          "text": [
            "11\n",
            "-1\n"
          ]
        }
      ],
      "source": [
        "print(plus_1(10))\n",
        "print(plus_1(-2))"
      ]
    },
    {
      "cell_type": "code",
      "execution_count": null,
      "metadata": {
        "id": "TaQ0R_mCZz3Y",
        "outputId": "8417241a-3dc4-49fc-91ac-e96f94e29c46"
      },
      "outputs": [
        {
          "name": "stdout",
          "output_type": "stream",
          "text": [
            "10\n",
            "2\n"
          ]
        }
      ],
      "source": [
        "print(my_abs(10))\n",
        "print(my_abs(-2))"
      ]
    },
    {
      "cell_type": "code",
      "execution_count": null,
      "metadata": {
        "id": "7RdpBgmRZz3a",
        "outputId": "48f47857-c170-4c6d-9ab7-d725f3af9fb2"
      },
      "outputs": [
        {
          "name": "stdout",
          "output_type": "stream",
          "text": [
            "42\n",
            "-22\n"
          ]
        }
      ],
      "source": [
        "print(my_sum(10, 32))\n",
        "print(my_sum(10, -32))"
      ]
    },
    {
      "cell_type": "code",
      "execution_count": null,
      "metadata": {
        "id": "j_EOB5QjZz3a",
        "outputId": "bce867b9-83a0-4f15-8525-761c03eeff8c"
      },
      "outputs": [
        {
          "ename": "TypeError",
          "evalue": "my_sum() missing 1 required positional argument: 'y'",
          "output_type": "error",
          "traceback": [
            "\u001b[0;31m---------------------------------------------------------------------------\u001b[0m",
            "\u001b[0;31mTypeError\u001b[0m                                 Traceback (most recent call last)",
            "\u001b[0;32m<ipython-input-62-47a96436f9c6>\u001b[0m in \u001b[0;36m<module>\u001b[0;34m()\u001b[0m\n\u001b[0;32m----> 1\u001b[0;31m \u001b[0mmy_sum\u001b[0m\u001b[0;34m(\u001b[0m\u001b[0;36m0\u001b[0m\u001b[0;34m)\u001b[0m\u001b[0;34m\u001b[0m\u001b[0m\n\u001b[0m",
            "\u001b[0;31mTypeError\u001b[0m: my_sum() missing 1 required positional argument: 'y'"
          ]
        }
      ],
      "source": [
        "my_sum(0)# не хватает агрументов"
      ]
    },
    {
      "cell_type": "markdown",
      "metadata": {
        "id": "g6tPttVKZz3b"
      },
      "source": [
        "#### Переменное число аргументов\n",
        "Можно не ограничивать количество аргументов с помощью следующей конструкции"
      ]
    },
    {
      "cell_type": "code",
      "execution_count": null,
      "metadata": {
        "id": "RLMITu6XZz3b"
      },
      "outputs": [],
      "source": [
        "def my_sum(*values):\n",
        "    res = 0\n",
        "    for value in values:\n",
        "        res += value\n",
        "    return res"
      ]
    },
    {
      "cell_type": "code",
      "execution_count": null,
      "metadata": {
        "id": "frC5vzasZz3c",
        "outputId": "e73fc767-36f4-47f1-b6dc-02315f18f81b"
      },
      "outputs": [
        {
          "data": {
            "text/plain": [
              "0"
            ]
          },
          "execution_count": 64,
          "metadata": {},
          "output_type": "execute_result"
        }
      ],
      "source": [
        "my_sum()"
      ]
    },
    {
      "cell_type": "code",
      "execution_count": null,
      "metadata": {
        "id": "A_bO0A27Zz3d",
        "outputId": "40f285e0-88fc-4bd5-9618-ab377305878d"
      },
      "outputs": [
        {
          "data": {
            "text/plain": [
              "10"
            ]
          },
          "execution_count": 65,
          "metadata": {},
          "output_type": "execute_result"
        }
      ],
      "source": [
        "my_sum(10)"
      ]
    },
    {
      "cell_type": "code",
      "execution_count": null,
      "metadata": {
        "id": "6Yxfxp1_Zz3d",
        "outputId": "ba915e67-51e8-4937-a8b2-f3bc2a2f1d77"
      },
      "outputs": [
        {
          "data": {
            "text/plain": [
              "4"
            ]
          },
          "execution_count": 66,
          "metadata": {},
          "output_type": "execute_result"
        }
      ],
      "source": [
        "my_sum(1, 3)"
      ]
    },
    {
      "cell_type": "code",
      "execution_count": null,
      "metadata": {
        "id": "lgShVFCPZz3e",
        "outputId": "02624b0f-5169-4c18-8b96-0fb30be4f21e"
      },
      "outputs": [
        {
          "data": {
            "text/plain": [
              "3"
            ]
          },
          "execution_count": 67,
          "metadata": {},
          "output_type": "execute_result"
        }
      ],
      "source": [
        "my_sum(1, 3, -1)"
      ]
    },
    {
      "cell_type": "markdown",
      "metadata": {
        "id": "dSjtTdVlZz3e"
      },
      "source": [
        "#### Аргументы по умолчанию\n",
        "\n",
        "Можно задавать аргументы по умолчанию, значение по умолчанию берется только, когда аргумент не объявлен при вызове функции "
      ]
    },
    {
      "cell_type": "code",
      "execution_count": null,
      "metadata": {
        "id": "3tMJe-icZz3f"
      },
      "outputs": [],
      "source": [
        "def f(x, y=5):\n",
        "    return x + y"
      ]
    },
    {
      "cell_type": "code",
      "execution_count": null,
      "metadata": {
        "id": "lqkKSEUPZz3f",
        "outputId": "7c8d3c4e-d02e-4134-c569-50d07bebb877"
      },
      "outputs": [
        {
          "data": {
            "text/plain": [
              "0"
            ]
          },
          "execution_count": 69,
          "metadata": {},
          "output_type": "execute_result"
        }
      ],
      "source": [
        "f(0, 0)"
      ]
    },
    {
      "cell_type": "code",
      "execution_count": null,
      "metadata": {
        "id": "ELHXyGJtZz3g",
        "outputId": "8827d96b-5564-41ef-8277-8a02607981df"
      },
      "outputs": [
        {
          "data": {
            "text/plain": [
              "3"
            ]
          },
          "execution_count": 70,
          "metadata": {},
          "output_type": "execute_result"
        }
      ],
      "source": [
        "f(0, 3)"
      ]
    },
    {
      "cell_type": "code",
      "execution_count": null,
      "metadata": {
        "id": "2cbWEHqvZz3h",
        "outputId": "fb45760d-0dd2-456e-a876-55ba92b3a0d0"
      },
      "outputs": [
        {
          "data": {
            "text/plain": [
              "5"
            ]
          },
          "execution_count": 71,
          "metadata": {},
          "output_type": "execute_result"
        }
      ],
      "source": [
        "f(0)"
      ]
    },
    {
      "cell_type": "code",
      "execution_count": null,
      "metadata": {
        "id": "hygX_XOxZz3h",
        "outputId": "de0045ab-30f0-4f97-f43d-3f2c1b117009"
      },
      "outputs": [
        {
          "data": {
            "text/plain": [
              "5"
            ]
          },
          "execution_count": 72,
          "metadata": {},
          "output_type": "execute_result"
        }
      ],
      "source": [
        "f(x=0)"
      ]
    },
    {
      "cell_type": "code",
      "execution_count": null,
      "metadata": {
        "id": "OvyYRbv4Zz3i",
        "outputId": "45cc0297-0a3e-4fa7-da22-2b75f07ba78a"
      },
      "outputs": [
        {
          "ename": "SyntaxError",
          "evalue": "positional argument follows keyword argument (<ipython-input-73-5c12d8928bb8>, line 1)",
          "output_type": "error",
          "traceback": [
            "\u001b[0;36m  File \u001b[0;32m\"<ipython-input-73-5c12d8928bb8>\"\u001b[0;36m, line \u001b[0;32m1\u001b[0m\n\u001b[0;31m    f(x=0, 5)\u001b[0m\n\u001b[0m          ^\u001b[0m\n\u001b[0;31mSyntaxError\u001b[0m\u001b[0;31m:\u001b[0m positional argument follows keyword argument\n"
          ]
        }
      ],
      "source": [
        "f(x=0, 5)"
      ]
    },
    {
      "cell_type": "code",
      "execution_count": null,
      "metadata": {
        "id": "nHQuBrCkZz3j",
        "outputId": "8b3025ff-2019-41e3-912d-d03fad63781e"
      },
      "outputs": [
        {
          "data": {
            "text/plain": [
              "5"
            ]
          },
          "execution_count": 74,
          "metadata": {},
          "output_type": "execute_result"
        }
      ],
      "source": [
        "f(x=0, y=5)"
      ]
    },
    {
      "cell_type": "code",
      "execution_count": null,
      "metadata": {
        "id": "5ZSRqVYeZz3k",
        "outputId": "85cf9b33-28f1-47da-e332-7aa3b74ca8a6"
      },
      "outputs": [
        {
          "ename": "TypeError",
          "evalue": "f() got multiple values for argument 'x'",
          "output_type": "error",
          "traceback": [
            "\u001b[0;31m---------------------------------------------------------------------------\u001b[0m",
            "\u001b[0;31mTypeError\u001b[0m                                 Traceback (most recent call last)",
            "\u001b[0;32m<ipython-input-75-9a35e4c19983>\u001b[0m in \u001b[0;36m<module>\u001b[0;34m()\u001b[0m\n\u001b[0;32m----> 1\u001b[0;31m \u001b[0mf\u001b[0m\u001b[0;34m(\u001b[0m\u001b[0;36m0\u001b[0m\u001b[0;34m,\u001b[0m \u001b[0mx\u001b[0m\u001b[0;34m=\u001b[0m\u001b[0;36m0\u001b[0m\u001b[0;34m,\u001b[0m \u001b[0my\u001b[0m\u001b[0;34m=\u001b[0m\u001b[0;36m5\u001b[0m\u001b[0;34m)\u001b[0m\u001b[0;34m\u001b[0m\u001b[0m\n\u001b[0m",
            "\u001b[0;31mTypeError\u001b[0m: f() got multiple values for argument 'x'"
          ]
        }
      ],
      "source": [
        "f(0, x=0, y=5)"
      ]
    },
    {
      "cell_type": "markdown",
      "metadata": {
        "id": "oeMujItcZz3l"
      },
      "source": [
        "#### Осторожнее с аргументами по умолчанию"
      ]
    },
    {
      "cell_type": "code",
      "execution_count": null,
      "metadata": {
        "id": "yrRZ6D6YZz3m"
      },
      "outputs": [],
      "source": [
        "def f(x, my_list=[]):\n",
        "    my_list.append(x)\n",
        "    return sum(my_list)"
      ]
    },
    {
      "cell_type": "code",
      "execution_count": null,
      "metadata": {
        "id": "SsDoOwbhZz3n",
        "outputId": "77065eb4-af32-42a0-9292-3d590b15a28a"
      },
      "outputs": [
        {
          "name": "stdout",
          "output_type": "stream",
          "text": [
            "0\n",
            "4\n",
            "6\n",
            "3\n",
            "4\n",
            "8\n"
          ]
        }
      ],
      "source": [
        "print(f(0))\n",
        "print(f(1, [1, 2]))\n",
        "print(f(2, [4]))\n",
        "print(f(3))\n",
        "print(f(4, []))\n",
        "print(f(5)) # вот тут будет сюрприз"
      ]
    },
    {
      "cell_type": "code",
      "execution_count": null,
      "metadata": {
        "id": "72td6N3qZz3o"
      },
      "outputs": [],
      "source": [
        "def f(x, my_list=[]):\n",
        "    my_list.append(x)\n",
        "    print(my_list)\n",
        "    return sum(my_list)"
      ]
    },
    {
      "cell_type": "code",
      "execution_count": null,
      "metadata": {
        "id": "0ChT3XsXZz3p",
        "outputId": "3d9cadf8-d289-43aa-ef0e-267daa34e76e"
      },
      "outputs": [
        {
          "name": "stdout",
          "output_type": "stream",
          "text": [
            "[0]\n",
            "0\n",
            "[1, 2, 1]\n",
            "4\n",
            "[4, 2]\n",
            "6\n",
            "[0, 3]\n",
            "3\n",
            "[4]\n",
            "4\n",
            "[0, 3, 5]\n",
            "8\n"
          ]
        }
      ],
      "source": [
        "print(f(0))\n",
        "print(f(1, [1, 2]))\n",
        "print(f(2, [4]))\n",
        "print(f(3))\n",
        "print(f(4, []))\n",
        "print(f(5)) # вот тут будет сюрприз"
      ]
    },
    {
      "cell_type": "markdown",
      "metadata": {
        "id": "sTXf4QG2Zz3r"
      },
      "source": [
        "Правильно делать так:"
      ]
    },
    {
      "cell_type": "code",
      "execution_count": null,
      "metadata": {
        "id": "zaboOyo3Zz3r"
      },
      "outputs": [],
      "source": [
        "def f(x, my_list=None):\n",
        "    if my_list is None:\n",
        "        my_list = []\n",
        "    my_list.append(x)\n",
        "    return sum(my_list)"
      ]
    },
    {
      "cell_type": "code",
      "execution_count": null,
      "metadata": {
        "id": "hbgtuTpxZz3s",
        "outputId": "9312a35e-0e62-4887-8741-738b4772d267"
      },
      "outputs": [
        {
          "name": "stdout",
          "output_type": "stream",
          "text": [
            "0\n",
            "4\n",
            "6\n",
            "3\n",
            "4\n",
            "5\n"
          ]
        }
      ],
      "source": [
        "print(f(0))\n",
        "print(f(1, [1, 2]))\n",
        "print(f(2, [4]))\n",
        "print(f(3))\n",
        "print(f(4, []))\n",
        "print(f(5)) # больше сюрприза не будет"
      ]
    },
    {
      "cell_type": "markdown",
      "metadata": {
        "id": "qfbNAh1RZz3u"
      },
      "source": [
        "Аргументом функции может быть другая функция"
      ]
    },
    {
      "cell_type": "code",
      "execution_count": null,
      "metadata": {
        "id": "u6jHDHT8Zz3u",
        "outputId": "82abd576-12f2-4930-c511-e6294806efd5"
      },
      "outputs": [
        {
          "name": "stdout",
          "output_type": "stream",
          "text": [
            "6\n",
            "5\n",
            "30\n"
          ]
        }
      ],
      "source": [
        "def applicator(function, argument):\n",
        "    return function(argument)\n",
        "\n",
        "def f(x):\n",
        "    return x + 5\n",
        "\n",
        "def g(x):\n",
        "    return x * 5\n",
        "\n",
        "print(applicator(f, 1))\n",
        "print(applicator(g, 1))\n",
        "print(applicator(g, applicator(f, 1)))"
      ]
    },
    {
      "cell_type": "markdown",
      "metadata": {
        "id": "u3KLpnmDZz3v"
      },
      "source": [
        "Результатом работы функции может быть другая функция"
      ]
    },
    {
      "cell_type": "code",
      "execution_count": null,
      "metadata": {
        "id": "-LwKPWiJZz3v",
        "outputId": "f4118ee2-7cfb-4973-b47d-56995a1f0a61"
      },
      "outputs": [
        {
          "name": "stdout",
          "output_type": "stream",
          "text": [
            "30\n"
          ]
        }
      ],
      "source": [
        "def combinator(function1, function2):\n",
        "    def function3(x):\n",
        "        return function1(function2(x))\n",
        "    return function3\n",
        "\n",
        "fun = combinator(g, f)\n",
        "print(fun(1))"
      ]
    },
    {
      "cell_type": "markdown",
      "metadata": {
        "id": "zpw04FS5Zz3w"
      },
      "source": [
        "## Лямбда функции"
      ]
    },
    {
      "cell_type": "markdown",
      "metadata": {
        "id": "DC8ldkjWZz3w"
      },
      "source": [
        "Лямбда-функция — это небольшая анонимная функция. Она может принимать любое количество аргументов, но в то же время иметь только одно выражение.\n",
        "\n",
        " **lambda** аргументы : выражение\n"
      ]
    },
    {
      "cell_type": "code",
      "execution_count": null,
      "metadata": {
        "id": "FxtYbqL4Zz3x"
      },
      "outputs": [],
      "source": [
        "def f(x):\n",
        "    return x + 1\n",
        "\n",
        "g = lambda x: x + 1"
      ]
    },
    {
      "cell_type": "code",
      "execution_count": null,
      "metadata": {
        "id": "hbfE-3jhZz3x",
        "outputId": "d70f747d-b954-4304-e17c-f1910ac9a51f"
      },
      "outputs": [
        {
          "name": "stdout",
          "output_type": "stream",
          "text": [
            "2 2\n",
            "1001 1001\n"
          ]
        }
      ],
      "source": [
        "print(f(1), g(1))\n",
        "print(f(1000), g(1000))"
      ]
    },
    {
      "cell_type": "code",
      "execution_count": null,
      "metadata": {
        "id": "nztuO8_RZz3y",
        "outputId": "1b247df2-9e74-40e6-baa6-e05cb15e25f4"
      },
      "outputs": [
        {
          "name": "stdout",
          "output_type": "stream",
          "text": [
            "5\n"
          ]
        }
      ],
      "source": [
        "g = lambda x, y: x + y\n",
        "print(g(2, 3))"
      ]
    },
    {
      "cell_type": "markdown",
      "metadata": {
        "id": "HO_vjXoEZz3z"
      },
      "source": [
        "удобно передавать в качестве параметров"
      ]
    },
    {
      "cell_type": "code",
      "execution_count": null,
      "metadata": {
        "id": "ELSCJq94Zz3z"
      },
      "outputs": [],
      "source": [
        "my_list = [(1, 1), (2, 0), (3, 4), (1, -1), (2, 2)]"
      ]
    },
    {
      "cell_type": "code",
      "execution_count": null,
      "metadata": {
        "id": "tbYM74GQZz30",
        "outputId": "5011e32b-b1cb-4044-cad3-db6ba573d7c9"
      },
      "outputs": [
        {
          "name": "stdout",
          "output_type": "stream",
          "text": [
            "[(1, -1), (2, 0), (1, 1), (2, 2), (3, 4)]\n"
          ]
        }
      ],
      "source": [
        "print(sorted(my_list, key=lambda x: x[1]))"
      ]
    },
    {
      "cell_type": "markdown",
      "metadata": {
        "id": "hdCMscVOZz30"
      },
      "source": [
        "#### аргументы по умолчанию"
      ]
    },
    {
      "cell_type": "code",
      "execution_count": null,
      "metadata": {
        "id": "M1X_v_fAZz31"
      },
      "outputs": [],
      "source": [
        "f = lambda x=1, y=5: x+y"
      ]
    },
    {
      "cell_type": "code",
      "execution_count": null,
      "metadata": {
        "colab": {
          "base_uri": "https://localhost:8080/"
        },
        "id": "7IJQINciZz31",
        "outputId": "de77b455-b653-4b8a-efa4-e16b5a22e1f9"
      },
      "outputs": [
        {
          "data": {
            "text/plain": [
              "5"
            ]
          },
          "execution_count": 7,
          "metadata": {},
          "output_type": "execute_result"
        }
      ],
      "source": [
        "f(x=4, y=1)"
      ]
    },
    {
      "cell_type": "code",
      "execution_count": null,
      "metadata": {
        "colab": {
          "base_uri": "https://localhost:8080/"
        },
        "id": "n1X85CWFZz32",
        "outputId": "b8dd86a7-17b4-4965-a698-d4f6d2041632"
      },
      "outputs": [
        {
          "data": {
            "text/plain": [
              "6"
            ]
          },
          "execution_count": 8,
          "metadata": {},
          "output_type": "execute_result"
        }
      ],
      "source": [
        "f()"
      ]
    },
    {
      "cell_type": "code",
      "execution_count": null,
      "metadata": {
        "colab": {
          "base_uri": "https://localhost:8080/"
        },
        "id": "M3PRwy03Zz33",
        "outputId": "2d194031-7d72-4ad7-c99c-4852658fd213"
      },
      "outputs": [
        {
          "data": {
            "text/plain": [
              "8"
            ]
          },
          "execution_count": 9,
          "metadata": {},
          "output_type": "execute_result"
        }
      ],
      "source": [
        "f(3)"
      ]
    },
    {
      "cell_type": "code",
      "execution_count": null,
      "metadata": {
        "colab": {
          "base_uri": "https://localhost:8080/"
        },
        "id": "B1pC4hecZz34",
        "outputId": "d6ffe0ba-c8cb-47c3-b70d-74b8b1dc530c"
      },
      "outputs": [
        {
          "data": {
            "text/plain": [
              "4"
            ]
          },
          "execution_count": 10,
          "metadata": {},
          "output_type": "execute_result"
        }
      ],
      "source": [
        "f(y=3)"
      ]
    },
    {
      "cell_type": "markdown",
      "metadata": {
        "id": "B4oUv1WqZz3_"
      },
      "source": [
        "### Ещё несколько стандартных функций"
      ]
    },
    {
      "cell_type": "markdown",
      "metadata": {
        "id": "zZ42jIrxZz4A"
      },
      "source": [
        "#### map\n",
        "\n",
        "*map(function, iterable, ...)*\n",
        "\n",
        "Функция map() выполняет пользовательскую функцию function для каждого элемента последовательности, коллекции или итератора iterable. Каждый элемент iterable отправляется в функцию function в качестве аргумента."
      ]
    },
    {
      "cell_type": "code",
      "execution_count": null,
      "metadata": {
        "id": "64jruy4TZz4A"
      },
      "outputs": [],
      "source": [
        "my_list = [0, 0, -1, -2, -3, 4, 3, 2, 5]"
      ]
    },
    {
      "cell_type": "code",
      "execution_count": null,
      "metadata": {
        "id": "-CJ08BWuZz4B",
        "outputId": "e3aeaafc-a30d-4d79-da38-0c44dbf810a0"
      },
      "outputs": [
        {
          "data": {
            "text/plain": [
              "<map at 0x7fb9b021b710>"
            ]
          },
          "execution_count": 113,
          "metadata": {},
          "output_type": "execute_result"
        }
      ],
      "source": [
        "map(lambda x: abs(x), my_list)"
      ]
    },
    {
      "cell_type": "code",
      "execution_count": null,
      "metadata": {
        "id": "YXYNtyRxZz4B",
        "outputId": "369199f4-c64b-4d3b-a2e0-2be2f4557c6c"
      },
      "outputs": [
        {
          "data": {
            "text/plain": [
              "[0, 0, 1, 2, 3, 4, 3, 2, 5]"
            ]
          },
          "execution_count": 114,
          "metadata": {},
          "output_type": "execute_result"
        }
      ],
      "source": [
        "list(map(lambda x: abs(x), my_list))"
      ]
    },
    {
      "cell_type": "markdown",
      "metadata": {
        "id": "UniXcs2tZz4C"
      },
      "source": [
        "#### filter\n",
        "*filter(func, iterable)*\n",
        "\n",
        "Функция filter() отбирает/фильтрует элементы переданного объекта iterable при помощи пользовательской функции func."
      ]
    },
    {
      "cell_type": "code",
      "execution_count": null,
      "metadata": {
        "id": "XXZt8jCqZz4D",
        "outputId": "1bf4560c-671d-4187-ee2a-89fa21b3f275"
      },
      "outputs": [
        {
          "data": {
            "text/plain": [
              "<filter at 0x7fb9b021b828>"
            ]
          },
          "execution_count": 115,
          "metadata": {},
          "output_type": "execute_result"
        }
      ],
      "source": [
        "filter(lambda x: x > 0, my_list)"
      ]
    },
    {
      "cell_type": "code",
      "execution_count": null,
      "metadata": {
        "id": "dwu9U_meZz4E",
        "outputId": "3a5d7c09-7fbc-46df-a8c0-118e05854b91"
      },
      "outputs": [
        {
          "data": {
            "text/plain": [
              "[4, 3, 2, 5]"
            ]
          },
          "execution_count": 116,
          "metadata": {},
          "output_type": "execute_result"
        }
      ],
      "source": [
        "list(filter(lambda x: x > 0, my_list))"
      ]
    },
    {
      "cell_type": "markdown",
      "metadata": {
        "id": "OYMSot2GZz4F"
      },
      "source": [
        "#### sum, min, max\n",
        "\n",
        "\n",
        "\n",
        "*  sum - суммирует все элементы списка \n",
        "*  min - находит минимальный элемент списка\n",
        "*  max - находит максимальный элемент списка\n",
        "\n"
      ]
    },
    {
      "cell_type": "code",
      "execution_count": null,
      "metadata": {
        "id": "bI9iRxnIZz4G",
        "outputId": "a63f3d97-59c0-45ca-c13d-28c06ad2a44c"
      },
      "outputs": [
        {
          "name": "stdout",
          "output_type": "stream",
          "text": [
            "8\n",
            "-3\n",
            "5\n"
          ]
        }
      ],
      "source": [
        "print(sum(my_list))\n",
        "print(min(my_list))\n",
        "print(max(my_list))"
      ]
    },
    {
      "cell_type": "markdown",
      "metadata": {
        "id": "fSw_jLQgZz4H"
      },
      "source": [
        "# Некоторые популярные функции"
      ]
    },
    {
      "cell_type": "code",
      "execution_count": null,
      "metadata": {
        "id": "29bmzPfzZz4H"
      },
      "outputs": [],
      "source": [
        "import math"
      ]
    },
    {
      "cell_type": "code",
      "execution_count": null,
      "metadata": {
        "id": "_mioyvlCZz4I",
        "outputId": "24a2f8d4-f69f-43a9-e6df-b51d45553091"
      },
      "outputs": [
        {
          "data": {
            "text/plain": [
              "3"
            ]
          },
          "execution_count": 120,
          "metadata": {},
          "output_type": "execute_result"
        }
      ],
      "source": [
        "math.floor(3.1)# округление к нижней границе"
      ]
    },
    {
      "cell_type": "code",
      "execution_count": null,
      "metadata": {
        "id": "ZcwkL0nuZz4K",
        "outputId": "95b42f37-7606-4de5-f314-d2b259beb102"
      },
      "outputs": [
        {
          "data": {
            "text/plain": [
              "4"
            ]
          },
          "execution_count": 121,
          "metadata": {},
          "output_type": "execute_result"
        }
      ],
      "source": [
        "math.ceil(3.1) # округление к верхней границе"
      ]
    },
    {
      "cell_type": "code",
      "execution_count": null,
      "metadata": {
        "id": "sVwlsTiwZz4L",
        "outputId": "161dcce9-5687-442d-c980-d16bca355251",
        "scrolled": true
      },
      "outputs": [
        {
          "name": "stdout",
          "output_type": "stream",
          "text": [
            "Help on built-in module math:\n",
            "\n",
            "NAME\n",
            "    math\n",
            "\n",
            "DESCRIPTION\n",
            "    This module is always available.  It provides access to the\n",
            "    mathematical functions defined by the C standard.\n",
            "\n",
            "FUNCTIONS\n",
            "    acos(...)\n",
            "        acos(x)\n",
            "        \n",
            "        Return the arc cosine (measured in radians) of x.\n",
            "    \n",
            "    acosh(...)\n",
            "        acosh(x)\n",
            "        \n",
            "        Return the inverse hyperbolic cosine of x.\n",
            "    \n",
            "    asin(...)\n",
            "        asin(x)\n",
            "        \n",
            "        Return the arc sine (measured in radians) of x.\n",
            "    \n",
            "    asinh(...)\n",
            "        asinh(x)\n",
            "        \n",
            "        Return the inverse hyperbolic sine of x.\n",
            "    \n",
            "    atan(...)\n",
            "        atan(x)\n",
            "        \n",
            "        Return the arc tangent (measured in radians) of x.\n",
            "    \n",
            "    atan2(...)\n",
            "        atan2(y, x)\n",
            "        \n",
            "        Return the arc tangent (measured in radians) of y/x.\n",
            "        Unlike atan(y/x), the signs of both x and y are considered.\n",
            "    \n",
            "    atanh(...)\n",
            "        atanh(x)\n",
            "        \n",
            "        Return the inverse hyperbolic tangent of x.\n",
            "    \n",
            "    ceil(...)\n",
            "        ceil(x)\n",
            "        \n",
            "        Return the ceiling of x as an Integral.\n",
            "        This is the smallest integer >= x.\n",
            "    \n",
            "    copysign(...)\n",
            "        copysign(x, y)\n",
            "        \n",
            "        Return a float with the magnitude (absolute value) of x but the sign \n",
            "        of y. On platforms that support signed zeros, copysign(1.0, -0.0) \n",
            "        returns -1.0.\n",
            "    \n",
            "    cos(...)\n",
            "        cos(x)\n",
            "        \n",
            "        Return the cosine of x (measured in radians).\n",
            "    \n",
            "    cosh(...)\n",
            "        cosh(x)\n",
            "        \n",
            "        Return the hyperbolic cosine of x.\n",
            "    \n",
            "    degrees(...)\n",
            "        degrees(x)\n",
            "        \n",
            "        Convert angle x from radians to degrees.\n",
            "    \n",
            "    erf(...)\n",
            "        erf(x)\n",
            "        \n",
            "        Error function at x.\n",
            "    \n",
            "    erfc(...)\n",
            "        erfc(x)\n",
            "        \n",
            "        Complementary error function at x.\n",
            "    \n",
            "    exp(...)\n",
            "        exp(x)\n",
            "        \n",
            "        Return e raised to the power of x.\n",
            "    \n",
            "    expm1(...)\n",
            "        expm1(x)\n",
            "        \n",
            "        Return exp(x)-1.\n",
            "        This function avoids the loss of precision involved in the direct evaluation of exp(x)-1 for small x.\n",
            "    \n",
            "    fabs(...)\n",
            "        fabs(x)\n",
            "        \n",
            "        Return the absolute value of the float x.\n",
            "    \n",
            "    factorial(...)\n",
            "        factorial(x) -> Integral\n",
            "        \n",
            "        Find x!. Raise a ValueError if x is negative or non-integral.\n",
            "    \n",
            "    floor(...)\n",
            "        floor(x)\n",
            "        \n",
            "        Return the floor of x as an Integral.\n",
            "        This is the largest integer <= x.\n",
            "    \n",
            "    fmod(...)\n",
            "        fmod(x, y)\n",
            "        \n",
            "        Return fmod(x, y), according to platform C.  x % y may differ.\n",
            "    \n",
            "    frexp(...)\n",
            "        frexp(x)\n",
            "        \n",
            "        Return the mantissa and exponent of x, as pair (m, e).\n",
            "        m is a float and e is an int, such that x = m * 2.**e.\n",
            "        If x is 0, m and e are both 0.  Else 0.5 <= abs(m) < 1.0.\n",
            "    \n",
            "    fsum(...)\n",
            "        fsum(iterable)\n",
            "        \n",
            "        Return an accurate floating point sum of values in the iterable.\n",
            "        Assumes IEEE-754 floating point arithmetic.\n",
            "    \n",
            "    gamma(...)\n",
            "        gamma(x)\n",
            "        \n",
            "        Gamma function at x.\n",
            "    \n",
            "    gcd(...)\n",
            "        gcd(x, y) -> int\n",
            "        greatest common divisor of x and y\n",
            "    \n",
            "    hypot(...)\n",
            "        hypot(x, y)\n",
            "        \n",
            "        Return the Euclidean distance, sqrt(x*x + y*y).\n",
            "    \n",
            "    isclose(...)\n",
            "        isclose(a, b, *, rel_tol=1e-09, abs_tol=0.0) -> bool\n",
            "        \n",
            "        Determine whether two floating point numbers are close in value.\n",
            "        \n",
            "           rel_tol\n",
            "               maximum difference for being considered \"close\", relative to the\n",
            "               magnitude of the input values\n",
            "            abs_tol\n",
            "               maximum difference for being considered \"close\", regardless of the\n",
            "               magnitude of the input values\n",
            "        \n",
            "        Return True if a is close in value to b, and False otherwise.\n",
            "        \n",
            "        For the values to be considered close, the difference between them\n",
            "        must be smaller than at least one of the tolerances.\n",
            "        \n",
            "        -inf, inf and NaN behave similarly to the IEEE 754 Standard.  That\n",
            "        is, NaN is not close to anything, even itself.  inf and -inf are\n",
            "        only close to themselves.\n",
            "    \n",
            "    isfinite(...)\n",
            "        isfinite(x) -> bool\n",
            "        \n",
            "        Return True if x is neither an infinity nor a NaN, and False otherwise.\n",
            "    \n",
            "    isinf(...)\n",
            "        isinf(x) -> bool\n",
            "        \n",
            "        Return True if x is a positive or negative infinity, and False otherwise.\n",
            "    \n",
            "    isnan(...)\n",
            "        isnan(x) -> bool\n",
            "        \n",
            "        Return True if x is a NaN (not a number), and False otherwise.\n",
            "    \n",
            "    ldexp(...)\n",
            "        ldexp(x, i)\n",
            "        \n",
            "        Return x * (2**i).\n",
            "    \n",
            "    lgamma(...)\n",
            "        lgamma(x)\n",
            "        \n",
            "        Natural logarithm of absolute value of Gamma function at x.\n",
            "    \n",
            "    log(...)\n",
            "        log(x[, base])\n",
            "        \n",
            "        Return the logarithm of x to the given base.\n",
            "        If the base not specified, returns the natural logarithm (base e) of x.\n",
            "    \n",
            "    log10(...)\n",
            "        log10(x)\n",
            "        \n",
            "        Return the base 10 logarithm of x.\n",
            "    \n",
            "    log1p(...)\n",
            "        log1p(x)\n",
            "        \n",
            "        Return the natural logarithm of 1+x (base e).\n",
            "        The result is computed in a way which is accurate for x near zero.\n",
            "    \n",
            "    log2(...)\n",
            "        log2(x)\n",
            "        \n",
            "        Return the base 2 logarithm of x.\n",
            "    \n",
            "    modf(...)\n",
            "        modf(x)\n",
            "        \n",
            "        Return the fractional and integer parts of x.  Both results carry the sign\n",
            "        of x and are floats.\n",
            "    \n",
            "    pow(...)\n",
            "        pow(x, y)\n",
            "        \n",
            "        Return x**y (x to the power of y).\n",
            "    \n",
            "    radians(...)\n",
            "        radians(x)\n",
            "        \n",
            "        Convert angle x from degrees to radians.\n",
            "    \n",
            "    sin(...)\n",
            "        sin(x)\n",
            "        \n",
            "        Return the sine of x (measured in radians).\n",
            "    \n",
            "    sinh(...)\n",
            "        sinh(x)\n",
            "        \n",
            "        Return the hyperbolic sine of x.\n",
            "    \n",
            "    sqrt(...)\n",
            "        sqrt(x)\n",
            "        \n",
            "        Return the square root of x.\n",
            "    \n",
            "    tan(...)\n",
            "        tan(x)\n",
            "        \n",
            "        Return the tangent of x (measured in radians).\n",
            "    \n",
            "    tanh(...)\n",
            "        tanh(x)\n",
            "        \n",
            "        Return the hyperbolic tangent of x.\n",
            "    \n",
            "    trunc(...)\n",
            "        trunc(x:Real) -> Integral\n",
            "        \n",
            "        Truncates x to the nearest Integral toward 0. Uses the __trunc__ magic method.\n",
            "\n",
            "DATA\n",
            "    e = 2.718281828459045\n",
            "    inf = inf\n",
            "    nan = nan\n",
            "    pi = 3.141592653589793\n",
            "    tau = 6.283185307179586\n",
            "\n",
            "FILE\n",
            "    (built-in)\n",
            "\n",
            "\n"
          ]
        }
      ],
      "source": [
        "help(math)"
      ]
    },
    {
      "cell_type": "code",
      "execution_count": null,
      "metadata": {
        "id": "cnxC5IHAZz4N"
      },
      "outputs": [],
      "source": [
        "from math import factorial"
      ]
    },
    {
      "cell_type": "code",
      "execution_count": null,
      "metadata": {
        "id": "g_uwul9QZz4N",
        "outputId": "1054ff8e-4454-4355-ed7f-96f9cfb5e26d"
      },
      "outputs": [
        {
          "data": {
            "text/plain": [
              "1"
            ]
          },
          "execution_count": 124,
          "metadata": {},
          "output_type": "execute_result"
        }
      ],
      "source": [
        "factorial(1)"
      ]
    },
    {
      "cell_type": "code",
      "execution_count": null,
      "metadata": {
        "id": "qgYvU3YNZz4O",
        "outputId": "f9aa9e2b-e500-4667-96da-0c1c55799c00"
      },
      "outputs": [
        {
          "data": {
            "text/plain": [
              "120"
            ]
          },
          "execution_count": 125,
          "metadata": {},
          "output_type": "execute_result"
        }
      ],
      "source": [
        "factorial(5)"
      ]
    },
    {
      "cell_type": "code",
      "execution_count": null,
      "metadata": {
        "id": "RTsJq0j8Zz4P",
        "outputId": "2e1c5721-c38f-43d5-c096-0e25d83781c3"
      },
      "outputs": [
        {
          "data": {
            "text/plain": [
              "120"
            ]
          },
          "execution_count": 126,
          "metadata": {},
          "output_type": "execute_result"
        }
      ],
      "source": [
        "factorial(5.)"
      ]
    },
    {
      "cell_type": "code",
      "execution_count": null,
      "metadata": {
        "id": "m-KYQsJ3Zz4P",
        "outputId": "c6964a1a-eef6-4caf-c9ff-59747f1db3dc"
      },
      "outputs": [
        {
          "ename": "ValueError",
          "evalue": "factorial() only accepts integral values",
          "output_type": "error",
          "traceback": [
            "\u001b[0;31m---------------------------------------------------------------------------\u001b[0m",
            "\u001b[0;31mValueError\u001b[0m                                Traceback (most recent call last)",
            "\u001b[0;32m<ipython-input-127-30f2cfa83465>\u001b[0m in \u001b[0;36m<module>\u001b[0;34m()\u001b[0m\n\u001b[0;32m----> 1\u001b[0;31m \u001b[0mfactorial\u001b[0m\u001b[0;34m(\u001b[0m\u001b[0;36m5.1\u001b[0m\u001b[0;34m)\u001b[0m\u001b[0;34m\u001b[0m\u001b[0m\n\u001b[0m",
            "\u001b[0;31mValueError\u001b[0m: factorial() only accepts integral values"
          ]
        }
      ],
      "source": [
        "factorial(5.1)"
      ]
    },
    {
      "cell_type": "code",
      "execution_count": null,
      "metadata": {
        "id": "cebZY_bDZz4Q",
        "outputId": "9bd818a1-6b59-4df9-88c2-b04500206e0c"
      },
      "outputs": [
        {
          "data": {
            "text/plain": [
              "<function math.factorial>"
            ]
          },
          "execution_count": 128,
          "metadata": {},
          "output_type": "execute_result"
        }
      ],
      "source": [
        "factorial"
      ]
    },
    {
      "cell_type": "code",
      "execution_count": null,
      "metadata": {
        "id": "tKE9dYVyZz4R",
        "outputId": "28eb96e7-aa4e-4703-b5ec-15dd36ef791e"
      },
      "outputs": [
        {
          "data": {
            "text/plain": [
              "<function math.factorial>"
            ]
          },
          "execution_count": 129,
          "metadata": {},
          "output_type": "execute_result"
        }
      ],
      "source": [
        "math.factorial"
      ]
    },
    {
      "cell_type": "code",
      "execution_count": null,
      "metadata": {
        "id": "KBRWFH2JZz4S"
      },
      "outputs": [],
      "source": [
        "import heapq"
      ]
    },
    {
      "cell_type": "code",
      "execution_count": null,
      "metadata": {
        "id": "8IZepKfaZz4S",
        "outputId": "6be7f9a9-956f-40a0-9a94-418a3b2463db"
      },
      "outputs": [
        {
          "data": {
            "text/plain": [
              "<function heapq.nlargest>"
            ]
          },
          "execution_count": 131,
          "metadata": {},
          "output_type": "execute_result"
        }
      ],
      "source": [
        "heapq.nlargest"
      ]
    },
    {
      "cell_type": "code",
      "execution_count": null,
      "metadata": {
        "id": "D1g_FSd_Zz4T",
        "outputId": "7a45d374-bb50-42b3-9710-602eea97b35b"
      },
      "outputs": [
        {
          "name": "stdout",
          "output_type": "stream",
          "text": [
            "Help on function nlargest in module heapq:\n",
            "\n",
            "nlargest(n, iterable, key=None)\n",
            "    Find the n largest elements in a dataset.\n",
            "    \n",
            "    Equivalent to:  sorted(iterable, key=key, reverse=True)[:n]\n",
            "\n"
          ]
        }
      ],
      "source": [
        "help(heapq.nlargest) # находи n наибольших элементов в датасете"
      ]
    },
    {
      "cell_type": "code",
      "execution_count": null,
      "metadata": {
        "id": "lRY0CU_CZz4V",
        "outputId": "638697f9-e28c-4b42-c42d-f1be244e18ba"
      },
      "outputs": [
        {
          "data": {
            "text/plain": [
              "[21, 3, 0]"
            ]
          },
          "execution_count": 133,
          "metadata": {},
          "output_type": "execute_result"
        }
      ],
      "source": [
        "heapq.nlargest(3, [-1, -2, -4, -3, -2, 3, 21 , -6, 0, -2])"
      ]
    },
    {
      "cell_type": "code",
      "execution_count": null,
      "metadata": {
        "id": "gwG_pHi_Zz4W",
        "outputId": "6988b342-62e1-44f0-cf24-745cd0fcb1d8"
      },
      "outputs": [
        {
          "data": {
            "text/plain": [
              "[21, -6, -4]"
            ]
          },
          "execution_count": 134,
          "metadata": {},
          "output_type": "execute_result"
        }
      ],
      "source": [
        "heapq.nlargest(3, [-1, -2, -4, -3, -2, 3, 21 , -6, 0, -2], key=lambda x: abs(x)) # можно добавить условие для поиска"
      ]
    },
    {
      "cell_type": "code",
      "execution_count": null,
      "metadata": {
        "id": "tGKEkgtqZz4Y"
      },
      "outputs": [],
      "source": [
        "from collections import Counter"
      ]
    },
    {
      "cell_type": "code",
      "execution_count": null,
      "metadata": {
        "id": "Hnqfb1FZZz4Z",
        "outputId": "fd2f91c1-42ea-413b-b04f-76ce862d99a9",
        "scrolled": true
      },
      "outputs": [
        {
          "name": "stdout",
          "output_type": "stream",
          "text": [
            "Help on class Counter in module collections:\n",
            "\n",
            "class Counter(builtins.dict)\n",
            " |  Dict subclass for counting hashable items.  Sometimes called a bag\n",
            " |  or multiset.  Elements are stored as dictionary keys and their counts\n",
            " |  are stored as dictionary values.\n",
            " |  \n",
            " |  >>> c = Counter('abcdeabcdabcaba')  # count elements from a string\n",
            " |  \n",
            " |  >>> c.most_common(3)                # three most common elements\n",
            " |  [('a', 5), ('b', 4), ('c', 3)]\n",
            " |  >>> sorted(c)                       # list all unique elements\n",
            " |  ['a', 'b', 'c', 'd', 'e']\n",
            " |  >>> ''.join(sorted(c.elements()))   # list elements with repetitions\n",
            " |  'aaaaabbbbcccdde'\n",
            " |  >>> sum(c.values())                 # total of all counts\n",
            " |  15\n",
            " |  \n",
            " |  >>> c['a']                          # count of letter 'a'\n",
            " |  5\n",
            " |  >>> for elem in 'shazam':           # update counts from an iterable\n",
            " |  ...     c[elem] += 1                # by adding 1 to each element's count\n",
            " |  >>> c['a']                          # now there are seven 'a'\n",
            " |  7\n",
            " |  >>> del c['b']                      # remove all 'b'\n",
            " |  >>> c['b']                          # now there are zero 'b'\n",
            " |  0\n",
            " |  \n",
            " |  >>> d = Counter('simsalabim')       # make another counter\n",
            " |  >>> c.update(d)                     # add in the second counter\n",
            " |  >>> c['a']                          # now there are nine 'a'\n",
            " |  9\n",
            " |  \n",
            " |  >>> c.clear()                       # empty the counter\n",
            " |  >>> c\n",
            " |  Counter()\n",
            " |  \n",
            " |  Note:  If a count is set to zero or reduced to zero, it will remain\n",
            " |  in the counter until the entry is deleted or the counter is cleared:\n",
            " |  \n",
            " |  >>> c = Counter('aaabbc')\n",
            " |  >>> c['b'] -= 2                     # reduce the count of 'b' by two\n",
            " |  >>> c.most_common()                 # 'b' is still in, but its count is zero\n",
            " |  [('a', 3), ('c', 1), ('b', 0)]\n",
            " |  \n",
            " |  Method resolution order:\n",
            " |      Counter\n",
            " |      builtins.dict\n",
            " |      builtins.object\n",
            " |  \n",
            " |  Methods defined here:\n",
            " |  \n",
            " |  __add__(self, other)\n",
            " |      Add counts from two counters.\n",
            " |      \n",
            " |      >>> Counter('abbb') + Counter('bcc')\n",
            " |      Counter({'b': 4, 'c': 2, 'a': 1})\n",
            " |  \n",
            " |  __and__(self, other)\n",
            " |      Intersection is the minimum of corresponding counts.\n",
            " |      \n",
            " |      >>> Counter('abbb') & Counter('bcc')\n",
            " |      Counter({'b': 1})\n",
            " |  \n",
            " |  __delitem__(self, elem)\n",
            " |      Like dict.__delitem__() but does not raise KeyError for missing values.\n",
            " |  \n",
            " |  __iadd__(self, other)\n",
            " |      Inplace add from another counter, keeping only positive counts.\n",
            " |      \n",
            " |      >>> c = Counter('abbb')\n",
            " |      >>> c += Counter('bcc')\n",
            " |      >>> c\n",
            " |      Counter({'b': 4, 'c': 2, 'a': 1})\n",
            " |  \n",
            " |  __iand__(self, other)\n",
            " |      Inplace intersection is the minimum of corresponding counts.\n",
            " |      \n",
            " |      >>> c = Counter('abbb')\n",
            " |      >>> c &= Counter('bcc')\n",
            " |      >>> c\n",
            " |      Counter({'b': 1})\n",
            " |  \n",
            " |  __init__(*args, **kwds)\n",
            " |      Create a new, empty Counter object.  And if given, count elements\n",
            " |      from an input iterable.  Or, initialize the count from another mapping\n",
            " |      of elements to their counts.\n",
            " |      \n",
            " |      >>> c = Counter()                           # a new, empty counter\n",
            " |      >>> c = Counter('gallahad')                 # a new counter from an iterable\n",
            " |      >>> c = Counter({'a': 4, 'b': 2})           # a new counter from a mapping\n",
            " |      >>> c = Counter(a=4, b=2)                   # a new counter from keyword args\n",
            " |  \n",
            " |  __ior__(self, other)\n",
            " |      Inplace union is the maximum of value from either counter.\n",
            " |      \n",
            " |      >>> c = Counter('abbb')\n",
            " |      >>> c |= Counter('bcc')\n",
            " |      >>> c\n",
            " |      Counter({'b': 3, 'c': 2, 'a': 1})\n",
            " |  \n",
            " |  __isub__(self, other)\n",
            " |      Inplace subtract counter, but keep only results with positive counts.\n",
            " |      \n",
            " |      >>> c = Counter('abbbc')\n",
            " |      >>> c -= Counter('bccd')\n",
            " |      >>> c\n",
            " |      Counter({'b': 2, 'a': 1})\n",
            " |  \n",
            " |  __missing__(self, key)\n",
            " |      The count of elements not in the Counter is zero.\n",
            " |  \n",
            " |  __neg__(self)\n",
            " |      Subtracts from an empty counter.  Strips positive and zero counts,\n",
            " |      and flips the sign on negative counts.\n",
            " |  \n",
            " |  __or__(self, other)\n",
            " |      Union is the maximum of value in either of the input counters.\n",
            " |      \n",
            " |      >>> Counter('abbb') | Counter('bcc')\n",
            " |      Counter({'b': 3, 'c': 2, 'a': 1})\n",
            " |  \n",
            " |  __pos__(self)\n",
            " |      Adds an empty counter, effectively stripping negative and zero counts\n",
            " |  \n",
            " |  __reduce__(self)\n",
            " |      helper for pickle\n",
            " |  \n",
            " |  __repr__(self)\n",
            " |      Return repr(self).\n",
            " |  \n",
            " |  __sub__(self, other)\n",
            " |      Subtract count, but keep only results with positive counts.\n",
            " |      \n",
            " |      >>> Counter('abbbc') - Counter('bccd')\n",
            " |      Counter({'b': 2, 'a': 1})\n",
            " |  \n",
            " |  copy(self)\n",
            " |      Return a shallow copy.\n",
            " |  \n",
            " |  elements(self)\n",
            " |      Iterator over elements repeating each as many times as its count.\n",
            " |      \n",
            " |      >>> c = Counter('ABCABC')\n",
            " |      >>> sorted(c.elements())\n",
            " |      ['A', 'A', 'B', 'B', 'C', 'C']\n",
            " |      \n",
            " |      # Knuth's example for prime factors of 1836:  2**2 * 3**3 * 17**1\n",
            " |      >>> prime_factors = Counter({2: 2, 3: 3, 17: 1})\n",
            " |      >>> product = 1\n",
            " |      >>> for factor in prime_factors.elements():     # loop over factors\n",
            " |      ...     product *= factor                       # and multiply them\n",
            " |      >>> product\n",
            " |      1836\n",
            " |      \n",
            " |      Note, if an element's count has been set to zero or is a negative\n",
            " |      number, elements() will ignore it.\n",
            " |  \n",
            " |  most_common(self, n=None)\n",
            " |      List the n most common elements and their counts from the most\n",
            " |      common to the least.  If n is None, then list all element counts.\n",
            " |      \n",
            " |      >>> Counter('abcdeabcdabcaba').most_common(3)\n",
            " |      [('a', 5), ('b', 4), ('c', 3)]\n",
            " |  \n",
            " |  subtract(*args, **kwds)\n",
            " |      Like dict.update() but subtracts counts instead of replacing them.\n",
            " |      Counts can be reduced below zero.  Both the inputs and outputs are\n",
            " |      allowed to contain zero and negative counts.\n",
            " |      \n",
            " |      Source can be an iterable, a dictionary, or another Counter instance.\n",
            " |      \n",
            " |      >>> c = Counter('which')\n",
            " |      >>> c.subtract('witch')             # subtract elements from another iterable\n",
            " |      >>> c.subtract(Counter('watch'))    # subtract elements from another counter\n",
            " |      >>> c['h']                          # 2 in which, minus 1 in witch, minus 1 in watch\n",
            " |      0\n",
            " |      >>> c['w']                          # 1 in which, minus 1 in witch, minus 1 in watch\n",
            " |      -1\n",
            " |  \n",
            " |  update(*args, **kwds)\n",
            " |      Like dict.update() but add counts instead of replacing them.\n",
            " |      \n",
            " |      Source can be an iterable, a dictionary, or another Counter instance.\n",
            " |      \n",
            " |      >>> c = Counter('which')\n",
            " |      >>> c.update('witch')           # add elements from another iterable\n",
            " |      >>> d = Counter('watch')\n",
            " |      >>> c.update(d)                 # add elements from another counter\n",
            " |      >>> c['h']                      # four 'h' in which, witch, and watch\n",
            " |      4\n",
            " |  \n",
            " |  ----------------------------------------------------------------------\n",
            " |  Class methods defined here:\n",
            " |  \n",
            " |  fromkeys(iterable, v=None) from builtins.type\n",
            " |      Returns a new dict with keys from iterable and values equal to value.\n",
            " |  \n",
            " |  ----------------------------------------------------------------------\n",
            " |  Data descriptors defined here:\n",
            " |  \n",
            " |  __dict__\n",
            " |      dictionary for instance variables (if defined)\n",
            " |  \n",
            " |  __weakref__\n",
            " |      list of weak references to the object (if defined)\n",
            " |  \n",
            " |  ----------------------------------------------------------------------\n",
            " |  Methods inherited from builtins.dict:\n",
            " |  \n",
            " |  __contains__(self, key, /)\n",
            " |      True if D has a key k, else False.\n",
            " |  \n",
            " |  __eq__(self, value, /)\n",
            " |      Return self==value.\n",
            " |  \n",
            " |  __ge__(self, value, /)\n",
            " |      Return self>=value.\n",
            " |  \n",
            " |  __getattribute__(self, name, /)\n",
            " |      Return getattr(self, name).\n",
            " |  \n",
            " |  __getitem__(...)\n",
            " |      x.__getitem__(y) <==> x[y]\n",
            " |  \n",
            " |  __gt__(self, value, /)\n",
            " |      Return self>value.\n",
            " |  \n",
            " |  __iter__(self, /)\n",
            " |      Implement iter(self).\n",
            " |  \n",
            " |  __le__(self, value, /)\n",
            " |      Return self<=value.\n",
            " |  \n",
            " |  __len__(self, /)\n",
            " |      Return len(self).\n",
            " |  \n",
            " |  __lt__(self, value, /)\n",
            " |      Return self<value.\n",
            " |  \n",
            " |  __ne__(self, value, /)\n",
            " |      Return self!=value.\n",
            " |  \n",
            " |  __new__(*args, **kwargs) from builtins.type\n",
            " |      Create and return a new object.  See help(type) for accurate signature.\n",
            " |  \n",
            " |  __setitem__(self, key, value, /)\n",
            " |      Set self[key] to value.\n",
            " |  \n",
            " |  __sizeof__(...)\n",
            " |      D.__sizeof__() -> size of D in memory, in bytes\n",
            " |  \n",
            " |  clear(...)\n",
            " |      D.clear() -> None.  Remove all items from D.\n",
            " |  \n",
            " |  get(...)\n",
            " |      D.get(k[,d]) -> D[k] if k in D, else d.  d defaults to None.\n",
            " |  \n",
            " |  items(...)\n",
            " |      D.items() -> a set-like object providing a view on D's items\n",
            " |  \n",
            " |  keys(...)\n",
            " |      D.keys() -> a set-like object providing a view on D's keys\n",
            " |  \n",
            " |  pop(...)\n",
            " |      D.pop(k[,d]) -> v, remove specified key and return the corresponding value.\n",
            " |      If key is not found, d is returned if given, otherwise KeyError is raised\n",
            " |  \n",
            " |  popitem(...)\n",
            " |      D.popitem() -> (k, v), remove and return some (key, value) pair as a\n",
            " |      2-tuple; but raise KeyError if D is empty.\n",
            " |  \n",
            " |  setdefault(...)\n",
            " |      D.setdefault(k[,d]) -> D.get(k,d), also set D[k]=d if k not in D\n",
            " |  \n",
            " |  values(...)\n",
            " |      D.values() -> an object providing a view on D's values\n",
            " |  \n",
            " |  ----------------------------------------------------------------------\n",
            " |  Data and other attributes inherited from builtins.dict:\n",
            " |  \n",
            " |  __hash__ = None\n",
            "\n"
          ]
        }
      ],
      "source": [
        "help(Counter)"
      ]
    },
    {
      "cell_type": "code",
      "execution_count": null,
      "metadata": {
        "id": "cfjtTh8nZz4a",
        "outputId": "0b454ac4-4354-4dd0-8ca2-5d8d1c7d95fc"
      },
      "outputs": [
        {
          "data": {
            "text/plain": [
              "Counter({1: 2, 2: 3, 3: 2, 4: 2, 5: 2, 7: 1})"
            ]
          },
          "execution_count": 137,
          "metadata": {},
          "output_type": "execute_result"
        }
      ],
      "source": [
        "Counter([1, 2, 3, 4, 5, 3, 2 ,1, 5, 7, 4, 2])# подсчитает сколько раз каждый элемент встречается в массивом "
      ]
    },
    {
      "cell_type": "code",
      "execution_count": null,
      "metadata": {
        "id": "dtdUswn6Zz4b"
      },
      "outputs": [],
      "source": [
        "cnt = Counter([1, 2, 3, 4, 5, 3, 2 ,1, 5, 7, 4, 2])"
      ]
    },
    {
      "cell_type": "code",
      "execution_count": null,
      "metadata": {
        "id": "WKgCnJDSZz4c",
        "outputId": "9965dc0c-6538-477c-f8d5-d34db6342888"
      },
      "outputs": [
        {
          "data": {
            "text/plain": [
              "[(2, 3), (1, 2), (3, 2)]"
            ]
          },
          "execution_count": 139,
          "metadata": {},
          "output_type": "execute_result"
        }
      ],
      "source": [
        "cnt.most_common(3)# Вывести 3 самых популярных элемента"
      ]
    },
    {
      "cell_type": "markdown",
      "metadata": {
        "id": "uICbdrGHZz4d"
      },
      "source": [
        "### Полезные стандартные библиотеки:\n",
        "\n",
        "1. itertools\n",
        "2. collections\n",
        "3. math\n",
        "4. sys\n",
        "5. os\n",
        "6. time\n",
        "7. datetime\n",
        "8. random\n",
        "\n",
        "и многие другие на сайте https://docs.python.org/2/"
      ]
    }
  ],
  "metadata": {
    "colab": {
      "name": "Python_Introduction_Part2 (1).ipynb",
      "provenance": []
    },
    "kernelspec": {
      "display_name": "Python 3.10.7 64-bit (microsoft store)",
      "language": "python",
      "name": "python3"
    },
    "language_info": {
      "codemirror_mode": {
        "name": "ipython",
        "version": 3
      },
      "file_extension": ".py",
      "mimetype": "text/x-python",
      "name": "python",
      "nbconvert_exporter": "python",
      "pygments_lexer": "ipython3",
      "version": "3.10.7"
    },
    "vscode": {
      "interpreter": {
        "hash": "1c2b8c81ec63bacfc065ffa0637d78c57fb950c987f88be1676da8600e95a9c8"
      }
    }
  },
  "nbformat": 4,
  "nbformat_minor": 0
}
